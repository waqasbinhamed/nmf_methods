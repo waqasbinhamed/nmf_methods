{
 "cells": [
  {
   "cell_type": "code",
   "execution_count": null,
   "outputs": [],
   "source": [
    "import numpy as np\n",
    "import matplotlib.pyplot as plt\n",
    "from nmf.numf.base import numf\n",
    "from nmf.numf.peaks import get_neighbors\n",
    "from nmf.numf.multigrid import create_R, get_fine_p"
   ],
   "metadata": {
    "collapsed": false,
    "pycharm": {
     "name": "#%%\n"
    }
   }
  },
  {
   "cell_type": "code",
   "execution_count": null,
   "id": "8bbba254",
   "metadata": {
    "pycharm": {
     "name": "#%%\n"
    }
   },
   "outputs": [],
   "source": [
    "def gauss(x, sigma=1, mean=0, scale=1):\n",
    "    return scale * np.exp(-np.square(x - mean) / (2 * sigma ** 2))\n",
    "\n",
    "m = 100\n",
    "r = 3\n",
    "p1 = 24\n",
    "p2 = 50\n",
    "p3 = 76\n",
    "\n",
    "x = np.linspace(1, m, m).reshape(-1, 1)\n",
    "w1 = gauss(x, sigma=2, mean=p1)\n",
    "w2 = np.concatenate((np.zeros((int((m - p2) / 2), 1)), np.ones((p2, 1)), np.zeros((int((m - p2) / 2), 1))))\n",
    "w3 = gauss(x, sigma=2, mean=p3)\n",
    "Wtrue = np.hstack((w1, w2, w3))\n",
    "\n",
    "\n",
    "n = 6\n",
    "c = 1/np.sqrt(r-1)\n",
    "e = 0.001\n",
    "Htrue = np.array([[c + e, 1-c-e, 0],\n",
    "                  [1-c-e, c+e, 0],\n",
    "                  [c+e, 0, 1-c-e],\n",
    "                  [1-c-e, 0, c+e],\n",
    "                  [0, c+e, 1-c-e],\n",
    "                  [0, 1-c-e, c+e]]).T\n",
    "\n",
    "M = Wtrue @ Htrue"
   ]
  },
  {
   "cell_type": "code",
   "execution_count": null,
   "id": "a3fbf2f8",
   "metadata": {
    "pycharm": {
     "name": "#%%\n"
    }
   },
   "outputs": [],
   "source": [
    "plt.plot(M)"
   ]
  },
  {
   "cell_type": "markdown",
   "source": [
    "### No Multigrid"
   ],
   "metadata": {
    "collapsed": false,
    "pycharm": {
     "name": "#%% md\n"
    }
   }
  },
  {
   "cell_type": "code",
   "execution_count": null,
   "id": "95a86424",
   "metadata": {
    "pycharm": {
     "name": "#%%\n"
    }
   },
   "outputs": [],
   "source": [
    "iters = 200\n",
    "# pvals = get_neighbors([p1, p2, p3], m, 5)"
   ]
  },
  {
   "cell_type": "code",
   "execution_count": null,
   "outputs": [],
   "source": [
    "W0 = np.random.rand(m, r)\n",
    "H0 = np.random.rand(r, n)"
   ],
   "metadata": {
    "collapsed": false,
    "pycharm": {
     "name": "#%%\n"
    }
   }
  },
  {
   "cell_type": "code",
   "execution_count": null,
   "id": "50363c55",
   "metadata": {
    "pycharm": {
     "name": "#%%\n"
    }
   },
   "outputs": [],
   "source": [
    "%%time\n",
    "_, _, _ = numf(M, W0.copy(), H0.copy(), iters=iters)"
   ]
  },
  {
   "cell_type": "markdown",
   "source": [
    "### Multigrid 1-Level"
   ],
   "metadata": {
    "collapsed": false,
    "pycharm": {
     "name": "#%% md\n"
    }
   }
  },
  {
   "cell_type": "code",
   "execution_count": null,
   "id": "b71dbf49",
   "metadata": {
    "pycharm": {
     "name": "#%%\n"
    }
   },
   "outputs": [],
   "source": [
    "%%time\n",
    "R1 = create_R(m)\n",
    "_, H1, pouts1 = numf(R1 @ M, R1 @ W0.copy(), H0.copy(), iters=iters)\n",
    "fine_pouts1 = get_fine_p(pouts1)\n",
    "_, _, _ = numf(M, W0.copy(), H1, pvals=get_neighbors(fine_pouts1, m, 3), iters=iters)"
   ]
  },
  {
   "cell_type": "markdown",
   "source": [
    "### Multigrid Level-2"
   ],
   "metadata": {
    "collapsed": false,
    "pycharm": {
     "name": "#%% md\n"
    }
   }
  },
  {
   "cell_type": "code",
   "execution_count": null,
   "outputs": [],
   "source": [
    "%%time\n",
    "R1 = create_R(m)\n",
    "R2 = create_R(R1.shape[0])\n",
    "_, H2, pouts2 = numf(R2 @ R1 @ M, R2 @ R1 @ W0.copy(), H0.copy(), iters=iters)\n",
    "fine_pouts2 = get_fine_p(pouts2, scaling_factor=4)\n",
    "_, _, _ = numf(M, W0.copy(), H2, pvals=get_neighbors(fine_pouts2, m, 3), iters=iters)"
   ],
   "metadata": {
    "collapsed": false,
    "pycharm": {
     "name": "#%%\n"
    }
   }
  },
  {
   "cell_type": "markdown",
   "source": [
    "### Regularization Test"
   ],
   "metadata": {
    "collapsed": false,
    "pycharm": {
     "name": "#%% md\n"
    }
   }
  },
  {
   "cell_type": "code",
   "execution_count": null,
   "outputs": [],
   "source": [
    "pvals = get_neighbors([p1, p2, p3], m, 5)\n",
    "\n",
    "# l2 = 0\n",
    "W0, H0, pouts0 = numf(M, W0.copy(), H0.copy(), pvals=pvals, iters=iters, l2=0)\n",
    "plt.plot(W0)"
   ],
   "metadata": {
    "collapsed": false,
    "pycharm": {
     "name": "#%%\n"
    }
   }
  },
  {
   "cell_type": "code",
   "execution_count": null,
   "outputs": [],
   "source": [
    "# l2 = 0.3\n",
    "W1, H1, pouts1 = numf(M, W0.copy(), H0.copy(), pvals=pvals, iters=iters, l2=0.3)\n",
    "plt.plot(W1)"
   ],
   "metadata": {
    "collapsed": false,
    "pycharm": {
     "name": "#%%\n"
    }
   }
  },
  {
   "cell_type": "code",
   "execution_count": null,
   "outputs": [],
   "source": [
    "# l2 = 0.6\n",
    "W2, H2, pouts2 = numf(M, W0.copy(), H0.copy(), pvals=pvals, iters=iters, l2=0.6)\n",
    "plt.plot(W2)"
   ],
   "metadata": {
    "collapsed": false,
    "pycharm": {
     "name": "#%%\n"
    }
   }
  },
  {
   "cell_type": "code",
   "execution_count": null,
   "outputs": [],
   "source": [],
   "metadata": {
    "collapsed": false,
    "pycharm": {
     "name": "#%%\n"
    }
   }
  }
 ],
 "metadata": {
  "kernelspec": {
   "display_name": "Python 3 (ipykernel)",
   "language": "python",
   "name": "python3"
  },
  "language_info": {
   "codemirror_mode": {
    "name": "ipython",
    "version": 3
   },
   "file_extension": ".py",
   "mimetype": "text/x-python",
   "name": "python",
   "nbconvert_exporter": "python",
   "pygments_lexer": "ipython3",
   "version": "3.8.13"
  },
  "vscode": {
   "interpreter": {
    "hash": "cf7369d38975a6e991d03979cf6570122e070b876a81b4023a827ba3667e0d1e"
   }
  }
 },
 "nbformat": 4,
 "nbformat_minor": 5
}