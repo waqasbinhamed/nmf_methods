{
 "cells": [
  {
   "cell_type": "code",
   "execution_count": null,
   "metadata": {
    "collapsed": true,
    "pycharm": {
     "name": "#%%\n"
    }
   },
   "outputs": [],
   "source": [
    "import numpy as np\n",
    "import matplotlib.pyplot as plt\n",
    "from mpl_toolkits.axes_grid1 import make_axes_locatable\n",
    "from nmf_son.base import nmf_son\n",
    "from nmf_son.utils import load_results\n",
    "\n",
    "np.random.seed(42)\n",
    "np.set_printoptions(precision=3)"
   ]
  },
  {
   "cell_type": "code",
   "execution_count": null,
   "outputs": [],
   "source": [
    "def plot_scores(fscores, gscores, lambda_vals, reg_val):\n",
    "    def plot_ax(ax, f, g, total):\n",
    "        ax.plot(total, color='black', linewidth=3, label='total')\n",
    "        ax.plot(f, color='cyan', linewidth=1.5, label='f')\n",
    "        ax.plot(g, color='yellow', linewidth=1.5, label='g')\n",
    "        ax.legend()\n",
    "\n",
    "    total_score = fscores + lambda_vals * gscores\n",
    "    fig, axs = plt.subplots(1, 2, figsize=(20, 6))\n",
    "    fig.suptitle(f'lambda = {reg_val}', fontsize=25)\n",
    "\n",
    "    axs[0].set_yscale('log')\n",
    "    plot_ax(axs[0], fscores, gscores, total_score)\n",
    "    axs[0].set_title('log scale', fontsize=16)\n",
    "\n",
    "    axs[1].set_yscale('log')\n",
    "    plot_ax(axs[1], fscores - fscores[-1], gscores - gscores[-1], total_score - total_score[-1])\n",
    "    axs[1].set_title('log(score - score*)', fontsize=16)\n",
    "\n",
    "def plot_matrices(W, H, img_size, comparison_idxs):\n",
    "    fig, axs = plt.subplots(2, len(comparison_idxs), figsize=(20, 10), sharey='row')\n",
    "\n",
    "    for i, idx in enumerate(comparison_idxs):\n",
    "        axs[0, i].plot(W[:, idx] / np.dot(W[:, idx], W[:, idx]))\n",
    "        axs[0, i].set_title(f'W({idx+1})')\n",
    "\n",
    "        h_idx_3d = H[idx, :].reshape(img_size, order='F')\n",
    "        axs[1, i].plot(h_idx_3d)\n",
    "        axs[1, i].set_title(f'H({idx+1})')\n",
    "\n",
    "def plot_images(H, img_size, comparison_idxs):\n",
    "    fig, axs = plt.subplots(1, len(comparison_idxs), figsize=(20, 10))\n",
    "\n",
    "    for i, idx in enumerate(comparison_idxs):\n",
    "        h_idx_3d = H[idx, :].reshape(img_size, order='F')\n",
    "\n",
    "        axs[i].imshow(h_idx_3d)\n",
    "        img = axs[i].imshow(h_idx_3d, cmap='gray')\n",
    "        divider = make_axes_locatable(axs[i])\n",
    "\n",
    "        cax = divider.append_axes('right', size='5%', pad=0.1)\n",
    "        fig.colorbar(img, cax=cax, orientation='vertical')\n",
    "        axs[i].set_title(f'H({idx+1})')"
   ],
   "metadata": {
    "collapsed": false,
    "pycharm": {
     "name": "#%%\n"
    }
   }
  },
  {
   "cell_type": "code",
   "execution_count": null,
   "outputs": [],
   "source": [
    "X = np.load('../datasets/urban_small.npz')['X']"
   ],
   "metadata": {
    "collapsed": false,
    "pycharm": {
     "name": "#%%\n"
    }
   }
  },
  {
   "cell_type": "code",
   "execution_count": null,
   "outputs": [],
   "source": [
    "data = np.load('../saved_models/urban/urban_small_r6_ini.npz')\n",
    "ini_W = data['W']\n",
    "ini_H = data['H']"
   ],
   "metadata": {
    "collapsed": false,
    "pycharm": {
     "name": "#%%\n"
    }
   }
  },
  {
   "cell_type": "code",
   "execution_count": null,
   "outputs": [],
   "source": [
    "rank = 6\n",
    "save_filepath = '../saved_models/urban/tol_testing/r{}_l{}_tol{}.npz'"
   ],
   "metadata": {
    "collapsed": false,
    "pycharm": {
     "name": "#%%\n"
    }
   }
  },
  {
   "cell_type": "code",
   "execution_count": null,
   "outputs": [],
   "source": [
    "max_iters = 5\n",
    "reg_vals = [9e-5, 2]\n",
    "tols = [1e-3, 1e-4, 1e-5, 1e-6]"
   ],
   "metadata": {
    "collapsed": false,
    "pycharm": {
     "name": "#%%\n"
    }
   }
  },
  {
   "cell_type": "code",
   "execution_count": null,
   "outputs": [],
   "source": [
    "for tol in tols:\n",
    "    for reg_val in reg_vals:\n",
    "        Wb, Hb, Wl, Hl, fscores, gscores, lambda_vals = nmf_son(X, ini_W.copy(), ini_H.copy(), _lambda=reg_val, itermax=5000, early_stop=tol)\n",
    "        tmp_filepath = save_filepath.format(rank, str(reg_val).replace('.', '_'), str(tol).replace('.', '_'))\n",
    "        with open(tmp_filepath, 'wb') as fout:\n",
    "            np.savez_compressed(fout, Wb=Wb, Hb=Hb, Wl=Wl, Hl=Hl, fscores=fscores, gscores=gscores, lambda_vals=lambda_vals)\n",
    "\n",
    "        print(reg_val, tol, 'complete')"
   ],
   "metadata": {
    "collapsed": false,
    "pycharm": {
     "name": "#%%\n"
    }
   }
  },
  {
   "cell_type": "code",
   "execution_count": null,
   "outputs": [],
   "source": [
    "# comp_idxs = range(rank)\n",
    "# img_size = (20, 10)\n",
    "#\n",
    "# for reg_val in reg_vals:\n",
    "#     for tol in tols:\n",
    "#         Wb, Hb, Wl, Hl, fscores, gscores, lambda_vals = load_results(save_filepath.format(rank, str(reg_val).replace('.', '_'), str(tol).replace('.', '_')))\n",
    "#         plot_scores(fscores, gscores, lambda_vals, reg_val)\n",
    "#         plot_matrices(Wl, Hl, img_size, comp_idxs)\n",
    "#         plot_images(Hl, img_size, comp_idxs)"
   ],
   "metadata": {
    "collapsed": false,
    "pycharm": {
     "name": "#%%\n"
    }
   }
  }
 ],
 "metadata": {
  "kernelspec": {
   "display_name": "Python 3",
   "language": "python",
   "name": "python3"
  },
  "language_info": {
   "codemirror_mode": {
    "name": "ipython",
    "version": 2
   },
   "file_extension": ".py",
   "mimetype": "text/x-python",
   "name": "python",
   "nbconvert_exporter": "python",
   "pygments_lexer": "ipython2",
   "version": "2.7.6"
  }
 },
 "nbformat": 4,
 "nbformat_minor": 0
}