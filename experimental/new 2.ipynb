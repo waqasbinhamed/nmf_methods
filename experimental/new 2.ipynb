{
 "cells": [
  {
   "cell_type": "code",
   "execution_count": 5,
   "metadata": {
    "pycharm": {
     "name": "#%%\n"
    }
   },
   "outputs": [],
   "source": [
    "import numpy as np\n",
    "import matplotlib.pyplot as plt\n",
    "from mpl_toolkits.axes_grid1 import make_axes_locatable\n",
    "from nmf_methods.nmf_son.base import nmf_son as nmf_son_base\n",
    "from nmf_methods.nmf_son.new import nmf_son_constrained_H\n",
    "from nmf_methods.nmf_son.new import nmf_son_new\n",
    "from nmf_methods.nmf_son.utils import save_results, load_results\n",
    "\n",
    "np.random.seed(42)\n",
    "np.set_printoptions(precision=3)"
   ]
  },
  {
   "cell_type": "markdown",
   "metadata": {
    "pycharm": {
     "name": "#%% md\n"
    }
   },
   "source": [
    "## Toy Example"
   ]
  },
  {
   "cell_type": "code",
   "execution_count": 6,
   "metadata": {
    "pycharm": {
     "name": "#%%\n"
    }
   },
   "outputs": [],
   "source": [
    "def create_toy_ex(n):\n",
    "    W = np.random.rand(2, 3)\n",
    "    H = np.ones((3, n))\n",
    "    thres = 0.88\n",
    "    id = np.argwhere(np.sum(H >= thres, axis=0))\n",
    "    while id.any():\n",
    "        id = np.argwhere(np.sum(H >= thres, axis=0))\n",
    "        H[:, id.flatten()] = np.random.dirichlet((0.33, 0.33, 0.33), len(id)).T\n",
    "\n",
    "    M = W @ H\n",
    "    return M, W, H\n",
    "\n",
    "\n",
    "def plot_scores(fscores, gscores, lambda_vals, plot_title=None, filename=None):\n",
    "    fscores = fscores[1:]\n",
    "    gscores = gscores[1:]\n",
    "    lambda_vals = lambda_vals[1:]\n",
    "    total_score = fscores + lambda_vals * gscores\n",
    "    fig, axs = plt.subplots(1, 2, figsize=(20, 5))\n",
    "    if plot_title:\n",
    "        fig.suptitle(plot_title, fontsize=25)\n",
    "\n",
    "    axs[0].set_yscale('log')\n",
    "    axs[0].plot(total_score, color='black', linewidth=3, label='$F(W, H)$')\n",
    "    axs[0].plot(fscores, color='cyan', linewidth=1.5, label='$f(W, H)$')\n",
    "    axs[0].plot(gscores, color='yellow', linewidth=1.5, label='$g(W)$')\n",
    "    axs[0].set_xlabel('Iterations')\n",
    "    axs[0].legend()\n",
    "\n",
    "    fscores -= min(fscores)\n",
    "    gscores -= min(gscores)\n",
    "    total_score -= min(total_score)\n",
    "\n",
    "    axs[1].set_yscale('log')\n",
    "    axs[1].plot(total_score, color='black', linewidth=3, label='$F(W, H) - min(F(W, H))$')\n",
    "    axs[1].plot(fscores, color='cyan', linewidth=1.5, label='$f(W, H) - min(f(W, H))$')\n",
    "    axs[1].plot(gscores, color='yellow', linewidth=1.5, label='$g(W) - min(g(W))$')\n",
    "    axs[1].set_xlabel('Iterations')\n",
    "    axs[1].legend()\n",
    "\n",
    "    if filename:\n",
    "        fig.savefig(filename)\n",
    "\n",
    "\n",
    "def plot_mats(ax, M, W, W_true):\n",
    "    symbols = ['o', 'x', 'v', 's', '.']\n",
    "    for i in range(len(symbols)):\n",
    "        ax.plot(W[0, i], W[1, i],f'r{symbols[i]}', markersize=5, linewidth=2)\n",
    "    ax.plot(M[0, :], M[1, :],'k.')\n",
    "\n",
    "    for j in range(W_true.shape[1]):\n",
    "        ax.plot(W_true[0, j], W_true[1, j],'bx', markersize=5, linewidth=2)\n",
    "\n",
    "\n",
    "def plot_seperate_H(H, img_size, figsize, fontsize, normalize_row=False, split=False, filename=None):\n",
    "    rank = H.shape[0]\n",
    "    if normalize_row:\n",
    "        H /= np.linalg.norm(H, axis=1, keepdims=True)\n",
    "    H3d = H.reshape(-1, img_size[0], img_size[1], order='F')\n",
    "    if split:\n",
    "        half_rank = int(rank / 2)\n",
    "        fig, axs = plt.subplots(2, half_rank, figsize=figsize)\n",
    "        i, j, cnt = 0, 0, 0\n",
    "        while cnt < rank:\n",
    "            img = axs[i, j].imshow(H3d[cnt, :, :], cmap='gray')\n",
    "            axs[i, j].set_title(f'$h^{cnt + 1}$', fontsize=fontsize)\n",
    "            axs[i, j].axis('off')\n",
    "            divider = make_axes_locatable(axs[i, j])\n",
    "            cax = divider.append_axes('right', size='5%', pad=0.1)\n",
    "            fig.colorbar(img, cax=cax, orientation='vertical')\n",
    "\n",
    "\n",
    "\n",
    "            j += 1\n",
    "            if cnt + 1 == half_rank:\n",
    "                i = 1\n",
    "                j = 0\n",
    "            cnt += 1\n",
    "    else:\n",
    "        fig, axs = plt.subplots(1, rank, figsize=figsize)\n",
    "        cnt = 0\n",
    "        while cnt < rank:\n",
    "            img = axs[cnt].imshow(H3d[cnt, :, :], cmap='gray')\n",
    "            axs[cnt].set_title(f'$h^{cnt + 1}$', fontsize=fontsize)\n",
    "            axs[cnt].axis('off')\n",
    "            divider = make_axes_locatable(axs[cnt])\n",
    "            cax = divider.append_axes('right', size='5%', pad=0.1)\n",
    "            fig.colorbar(img, cax=cax, orientation='vertical')\n",
    "\n",
    "            cnt += 1\n",
    "    # plt.tight_layout()\n",
    "    if filename:\n",
    "        plt.savefig(filename)\n",
    "\n",
    "\n",
    "def plot_combined_H(H, img_size, figsize, normalize_row=False, split=False, filename=None):\n",
    "    if normalize_row:\n",
    "        H /= np.linalg.norm(H, axis=1, keepdims=True)\n",
    "    H3d = H.reshape(-1, img_size[0], img_size[1], order='F')\n",
    "    if split:\n",
    "        half_rank = int(H.shape[0] / 2)\n",
    "        large_mat = np.vstack([np.hstack(H3d[: half_rank, :, :]), np.hstack(H3d[half_rank: , :, :])])\n",
    "    else:\n",
    "        large_mat = np.hstack(H3d)\n",
    "    plt.figure(figsize=figsize)\n",
    "    ax = plt.axes()\n",
    "    im = plt.imshow(large_mat, cmap='gray')\n",
    "\n",
    "    divider = make_axes_locatable(ax)\n",
    "    cax = divider.append_axes(\"right\", size=\"5%\", pad=0.1)\n",
    "\n",
    "    plt.colorbar(im, cax=cax)\n",
    "\n",
    "    if filename:\n",
    "        plt.savefig(filename)\n",
    "\n",
    "\n",
    "def plot_W_mats(W, figsize, fontsize, split=False, filename=None, scale_y=False, log_scale=False, plot_title=None):\n",
    "    rank = W.shape[1]\n",
    "    wmin = np.min(W)\n",
    "    wmax = np.max(W)\n",
    "\n",
    "    if split:\n",
    "        half_rank = int(rank / 2)\n",
    "        fig, axs = plt.subplots(2, half_rank, figsize=figsize)\n",
    "        i, j, cnt = 0, 0, 0\n",
    "        while cnt < rank:\n",
    "            axs[i, j].plot(W[:, cnt], linewidth=3)\n",
    "            if scale_y:\n",
    "                axs[i, j].set_ylim([min(0, wmin), wmax])\n",
    "            if log_scale:\n",
    "                axs[i, j].set_yscale('log')\n",
    "            axs[i, j].set_title(f'$w_{cnt + 1}$', fontsize=fontsize)\n",
    "            axs[i, j].set_xlabel(f'Bands')\n",
    "            axs[i, j].set_ylabel(f'Reflectance')\n",
    "            j += 1\n",
    "            if cnt + 1 == half_rank:\n",
    "                i = 1\n",
    "                j = 0\n",
    "            cnt += 1\n",
    "    else:\n",
    "        fig, axs = plt.subplots(1, rank, figsize=figsize)\n",
    "        cnt = 0\n",
    "        while cnt < rank:\n",
    "            axs[cnt].plot(W[:, cnt], linewidth=3)\n",
    "            if scale_y:\n",
    "                axs[cnt].set_ylim([min(0, wmin), wmax])\n",
    "            if log_scale:\n",
    "                axs[cnt].set_yscale('log')\n",
    "            axs[cnt].set_title(f'$w_{cnt + 1}$', fontsize=fontsize)\n",
    "            axs[cnt].set_xlabel(f'Bands')\n",
    "            axs[cnt].set_ylabel(f'Reflectance')\n",
    "\n",
    "            cnt += 1\n",
    "    plt.tight_layout()\n",
    "\n",
    "    if plot_title:\n",
    "        fig.suptitle(plot_title, fontsize=25)\n",
    "    if filename:\n",
    "        fig.savefig(filename)\n",
    "\n",
    "def flatten_irr_2d(arr_2d):\n",
    "    flat_arr = list()\n",
    "    for arr in arr_2d:\n",
    "        for elem in arr:\n",
    "            if elem not in flat_arr:\n",
    "                flat_arr.append(elem)\n",
    "\n",
    "    return flat_arr"
   ]
  },
  {
   "cell_type": "code",
   "execution_count": 7,
   "metadata": {
    "pycharm": {
     "name": "#%%\n"
    }
   },
   "outputs": [],
   "source": [
    "max_iters = 10000"
   ]
  },
  {
   "cell_type": "code",
   "execution_count": 8,
   "metadata": {
    "pycharm": {
     "name": "#%%\n"
    }
   },
   "outputs": [],
   "source": [
    "EARLY_STOP = True\n",
    "VERBOSE = False\n",
    "SCALE_REG = True"
   ]
  },
  {
   "cell_type": "code",
   "execution_count": null,
   "outputs": [],
   "source": [
    "# toy\n",
    "# M, W_true, H = create_toy_ex(30)\n",
    "# with open('../experimental/datasets/toy_n30.npz', 'wb') as fout:\n",
    "#     np.savez_compressed(fout, M=M, W=W_true, H=H)\n",
    "\n",
    "\n",
    "data = np.load('../experimental/datasets/toy_n30.npz')\n",
    "M = data['M']\n",
    "W_true = data['W']\n",
    "H = data['H']\n",
    "\n",
    "m, n = M.shape\n",
    "r = 5\n",
    "\n",
    "lambda_vals = [1e-07, 1e-06, 1e-05, 0.0001, 0.0005, 0.001, 0.005, 0.01, 0.05, 0.1, 0.2, 0.5, 0.6, 0.7, 0.8, 0.9, 1, 2, 3, 4, 5, 6, 7, 8, 9, 10, 12, 14, 16, 18, 20, 25, 50, 100, 500, 1000]\n",
    "# lambda_vals = [10, 10.25, 10.5, 10.75, 11, 11.25, 11.5, 11.75, 12, 12.25, 12.5, 12.75, 13, 13.25, 13.5, 13.75, 14]\n",
    "# lambda_vals = [10.25, 10.5, 10.75, 11, 11.25, 11.5, 11.75, 12.25, 12.5, 12.75, 13, 13.25, 13.5, 13.75]\n",
    "\n",
    "\n",
    "ini_filepath = f'../experimental/saved_models/toy/r{r}_ini.npz'\n",
    "save_filepath = '../experimental/saved_models/toy/r{}_l{}_mit{}.npz'\n",
    "\n",
    "data = np.load(ini_filepath)\n",
    "ini_W = data['ini_W']\n",
    "ini_H = data['ini_H']\n",
    "\n",
    "for _lam in lambda_vals:\n",
    "    # W, H, fscores, gscores, lvals = nmf_son_new(M, ini_W.copy(), ini_H.copy(), _lambda=_lam, itermax=max_iters, early_stop=EARLY_STOP, verbose=VERBOSE, scale_reg=SCALE_REG)\n",
    "    # save_results(save_filepath.format(r, _lam, max_iters), W, H, fscores, gscores, lvals)\n",
    "    # print(_lam)\n",
    "\n",
    "    fig, axs = plt.subplots(1, 2, figsize=(12, 6))\n",
    "    W, H, fscores, gscores, lvals = load_results(save_filepath.format(r, _lam, max_iters))\n",
    "    axs[0].set_title(f'$\\lambda = {_lam}$')\n",
    "    plot_mats(axs[0], M, W, W_true)\n",
    "    # fscores -= min(fscores)\n",
    "    # gscores -= min(gscores)\n",
    "    total_score = fscores + lvals * gscores\n",
    "    # total_score -= min(total_score)\n",
    "    axs[1].set_yscale('log')\n",
    "    axs[1].plot(total_score, color='black', linewidth=3, label='$F(W, H) - min(F(W, H))$')\n",
    "    axs[1].plot(fscores, color='cyan', linewidth=1.5, label='$f(W, H) - min(f(W, H))$')\n",
    "    axs[1].plot(gscores, color='yellow', linewidth=1.5, label='$g(W) - min(g(W))$')\n",
    "    axs[1].set_xlabel('Iterations')\n",
    "    axs[1].legend()"
   ],
   "metadata": {
    "collapsed": false,
    "pycharm": {
     "name": "#%%\n"
    }
   }
  },
  {
   "cell_type": "code",
   "execution_count": null,
   "outputs": [],
   "source": [
    "np.linspace(10, 14, 17)"
   ],
   "metadata": {
    "collapsed": false,
    "pycharm": {
     "name": "#%%\n"
    }
   }
  },
  {
   "cell_type": "code",
   "execution_count": null,
   "outputs": [],
   "source": [
    "# jasper\n",
    "M = np.load('../experimental/datasets/jasper_full.npz')['X']\n",
    "m, n = M.shape\n",
    "r = 8\n",
    "\n",
    "lambda_vals = [1e-07, 1e-06, 1e-05, 0.0001, 0.0005, 0.001, 0.005, 0.01, 0.05, 0.1, 0.2, 0.5, 0.8, 1, 2, 5, 8, 10, 15, 20, 25, 30, 35, 40, 45, 50, 55, 60, 70, 80, 100, 500, 1000]\n",
    "\n",
    "ini_filepath = f'../experimental/saved_models/jasper/r{r}_ini.npz'\n",
    "save_filepath = '../experimental/saved_models/jasper/r{}_l{}_mit{}.npz'\n",
    "\n",
    "\n",
    "data = np.load(ini_filepath)\n",
    "ini_W = data['ini_W']\n",
    "ini_H = data['ini_H']\n",
    "\n",
    "with open(ini_filepath, 'wb') as fout:\n",
    "    np.savez_compressed(fout, ini_W=ini_W, ini_H=ini_H)\n",
    "\n",
    "for _lam in lambda_vals[:30]:\n",
    "    # W, H, fscores, gscores, lvals = nmf_son_new(M, ini_W.copy(), ini_H.copy(), _lambda=_lam, itermax=max_iters, early_stop=EARLY_STOP, verbose=VERBOSE, scale_reg=SCALE_REG)\n",
    "    # save_results(save_filepath.format(r, _lam, max_iters), W, H, fscores, gscores, lvals)\n",
    "\n",
    "    W, H, fscores, gscores, lvals = load_results(save_filepath.format(r, _lam, max_iters))\n",
    "    plot_scores(fscores, gscores, lvals, plot_title=_lam)\n",
    "    plot_W_mats(W, figsize=(28, 6), fontsize=25, scale_y=True)\n",
    "    plot_seperate_H(H, (100, 100), figsize=(20, 5), fontsize=15, normalize_row=True, split=True)\n"
   ],
   "metadata": {
    "collapsed": false,
    "pycharm": {
     "name": "#%%\n"
    }
   }
  },
  {
   "cell_type": "code",
   "execution_count": null,
   "outputs": [],
   "source": [
    "# urban\n",
    "M = np.load('../experimental/datasets/urban_full.npz')['X']\n",
    "m, n = M.shape\n",
    "r = 10\n",
    "\n",
    "lambda_vals = [1e-7, 1e-6, 1e-5, 0.0001, 0.0005, 0.001, 0.005, 0.01, 0.05, 0.1, 0.5, 1, 5, 10, 50, 100, 500, 1000]\n",
    "\n",
    "ini_filepath = f'../experimental/saved_models/urban/r{r}_ini.npz'\n",
    "save_filepath = '../experimental/saved_models/urban/r{}_l{}_it{}.npz'\n",
    "\n",
    "data = np.load(ini_filepath)\n",
    "ini_W = data['ini_W']\n",
    "ini_H = data['ini_H']\n",
    "\n",
    "with open(ini_filepath, 'wb') as fout:\n",
    "    np.savez_compressed(fout, ini_W=ini_W, ini_H=ini_H)\n",
    "\n",
    "for _lam in lambda_vals:\n",
    "    W, H, fscores, gscores, lvals = nmf_son_new(M, ini_W.copy(), ini_H.copy(), _lambda=_lam, itermax=max_iters, early_stop=EARLY_STOP, verbose=VERBOSE, scale_reg=SCALE_REG)\n",
    "    save_results(save_filepath.format(r, _lam, max_iters), W, H, fscores, gscores, lvals)\n",
    "    print(_lam)"
   ],
   "metadata": {
    "collapsed": false,
    "pycharm": {
     "name": "#%%\n"
    }
   }
  },
  {
   "cell_type": "code",
   "execution_count": null,
   "outputs": [],
   "source": [
    "from matplotlib.animation import FuncAnimation\n",
    "from IPython import display\n",
    "\n",
    "Figure = plt.figure()\n",
    "\n",
    "# creating a plot\n",
    "lines_plotted = plt.plot([])\n",
    "line_plotted = lines_plotted[0]\n",
    "\n",
    "plt.xlim(-0.1,1.1)\n",
    "plt.ylim(-0.1,1.1)\n",
    "\n",
    "def anim_func(frame):\n",
    "\n",
    "\t# setting y according to frame\n",
    "\t# number and + x. It's logic\n",
    "\ty = np.cos(x+2*np.pi*frame/100)\n",
    "\n",
    "\t# line is set with new values of x and y\n",
    "\tline_plotted.set_data((x, y))\n",
    "\n",
    "anim_created = FuncAnimation(Figure, AnimationFunction, frames=100, interval=25)\n",
    "\n",
    "video = anim_created.to_html5_video()\n",
    "html = display.HTML(video)\n",
    "display.display(html)\n",
    "\n",
    "# good practice to close the plt object.\n",
    "plt.close()"
   ],
   "metadata": {
    "collapsed": false,
    "pycharm": {
     "name": "#%%\n"
    }
   }
  },
  {
   "cell_type": "code",
   "execution_count": null,
   "metadata": {
    "pycharm": {
     "name": "#%%\n"
    }
   },
   "outputs": [],
   "source": []
  }
 ],
 "metadata": {
  "kernelspec": {
   "display_name": "Python 3 (ipykernel)",
   "language": "python",
   "name": "python3"
  },
  "language_info": {
   "codemirror_mode": {
    "name": "ipython",
    "version": 3
   },
   "file_extension": ".py",
   "mimetype": "text/x-python",
   "name": "python",
   "nbconvert_exporter": "python",
   "pygments_lexer": "ipython3",
   "version": "3.10.8"
  }
 },
 "nbformat": 4,
 "nbformat_minor": 1
}