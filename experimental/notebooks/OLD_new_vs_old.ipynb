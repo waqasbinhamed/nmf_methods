{
 "cells": [
  {
   "cell_type": "markdown",
   "source": [
    "### Notes\n",
    "- base implementation changed from alternating columns to matrix\n"
   ],
   "metadata": {
    "collapsed": false,
    "pycharm": {
     "name": "#%% md\n"
    }
   }
  },
  {
   "cell_type": "code",
   "execution_count": null,
   "outputs": [],
   "source": [
    "import numpy as np\n",
    "import matplotlib.pyplot as plt\n",
    "from mpl_toolkits.axes_grid1 import make_axes_locatable\n",
    "from nmf_methods.nmf_son.base import nmf_son as nmf_son_base\n",
    "from nmf_methods.nmf_son.new import nmf_son_constrained_H\n",
    "from nmf_methods.nmf_son.new import nmf_son_new\n",
    "from nmf_methods.nmf_son.utils import save_results, load_results\n",
    "\n",
    "np.random.seed(42)\n",
    "np.set_printoptions(precision=3)"
   ],
   "metadata": {
    "collapsed": false,
    "pycharm": {
     "name": "#%%\n"
    }
   }
  },
  {
   "cell_type": "markdown",
   "source": [
    "## Toy Example"
   ],
   "metadata": {
    "collapsed": false,
    "pycharm": {
     "name": "#%% md\n"
    }
   }
  },
  {
   "cell_type": "code",
   "execution_count": null,
   "outputs": [],
   "source": [
    "def create_toy_ex(n):\n",
    "    W = np.random.rand(2, 3)\n",
    "    H = np.ones((3, n))\n",
    "    thres = 0.88\n",
    "    id = np.argwhere(np.sum(H >= thres, axis=0))\n",
    "    while id.any():\n",
    "        id = np.argwhere(np.sum(H >= thres, axis=0))\n",
    "        H[:, id.flatten()] = np.random.dirichlet((0.33, 0.33, 0.33), len(id)).T\n",
    "\n",
    "    M = W @ H\n",
    "    return M, W, H\n",
    "\n",
    "def find_min(arrs):\n",
    "    min_val = np.Inf\n",
    "    for arr in arrs:\n",
    "        if min_val > min(arr):\n",
    "            min_val = min(arr)\n",
    "    return min_val\n",
    "\n",
    "def plot_mats(ax, M, W, W_true):\n",
    "    symbols = ['o', 'x', 'v', 's', '.']\n",
    "    for i in range(len(symbols)):\n",
    "        ax.plot(W[0, i], W[1, i],f'r{symbols[i]}', markersize=5, linewidth=2)\n",
    "    ax.plot(M[0, :], M[1, :],'k.')\n",
    "\n",
    "    for j in range(W_true.shape[1]):\n",
    "        ax.plot(W_true[0, j], W_true[1, j],'bx', markersize=5, linewidth=2)\n",
    "\n",
    "def plot_scores_comp(f_arr, g_arr, t_arr, vers):\n",
    "    fig, axs = plt.subplots(1, 3, figsize=(20, 6))\n",
    "    axs[0].set_yscale('log')\n",
    "    axs[0].set_xlabel('Iterations')\n",
    "    axs[0].set_ylabel('$F(W, H)$')\n",
    "    axs[0].plot(t_arr[0], color='black', linewidth=3, label=vers[0])\n",
    "    axs[0].plot(t_arr[1], color='cyan', linewidth=1.5, label=vers[1])\n",
    "    axs[0].plot(t_arr[2], color='yellow', linewidth=1.5, label=vers[2])\n",
    "    axs[0].legend()\n",
    "\n",
    "    axs[1].set_yscale('log')\n",
    "    axs[1].set_xlabel('Iterations')\n",
    "    axs[1].set_ylabel('$f(W, H)$')\n",
    "    axs[1].plot(f_arr[0], color='black', linewidth=3, label=vers[0])\n",
    "    axs[1].plot(f_arr[1], color='cyan', linewidth=1.5, label=vers[1])\n",
    "    axs[1].plot(f_arr[2], color='yellow', linewidth=1.5, label=vers[2])\n",
    "    axs[1].legend()\n",
    "\n",
    "    axs[2].set_yscale('log')\n",
    "    axs[2].set_xlabel('Iterations')\n",
    "    axs[2].set_ylabel('$g(W)$')\n",
    "    axs[2].plot(g_arr[0], color='black', linewidth=3, label=vers[0])\n",
    "    axs[2].plot(g_arr[1], color='cyan', linewidth=1.5, label=vers[1])\n",
    "    axs[2].plot(g_arr[2], color='yellow', linewidth=1.5, label=vers[2])\n",
    "    axs[2].legend()"
   ],
   "metadata": {
    "collapsed": false,
    "pycharm": {
     "name": "#%%\n"
    }
   }
  },
  {
   "cell_type": "code",
   "execution_count": null,
   "outputs": [],
   "source": [
    "M, W, H = create_toy_ex(30)\n",
    "m, n = M.shape\n",
    "\n",
    "r = 5\n",
    "lam = 0.05\n",
    "itermax = 1000\n",
    "\n",
    "EARLY_STOP = True\n",
    "VERBOSE = False\n",
    "SCALE_REG = True"
   ],
   "metadata": {
    "collapsed": false,
    "pycharm": {
     "name": "#%%\n"
    }
   }
  },
  {
   "cell_type": "code",
   "execution_count": null,
   "outputs": [],
   "source": [
    "ini_W = np.random.rand(m, r)\n",
    "ini_H = np.random.rand(r, n)"
   ],
   "metadata": {
    "collapsed": false,
    "pycharm": {
     "name": "#%%\n"
    }
   }
  },
  {
   "cell_type": "code",
   "execution_count": null,
   "outputs": [],
   "source": [
    "%%time\n",
    "W_base, H_base, fscores_base, gscores_base, lvals_base = nmf_son_base(M, ini_W.copy(), ini_H.copy(), _lambda=lam, itermax=itermax, early_stop=EARLY_STOP, verbose=VERBOSE, scale_reg=SCALE_REG)"
   ],
   "metadata": {
    "collapsed": false,
    "pycharm": {
     "name": "#%%\n"
    }
   }
  },
  {
   "cell_type": "code",
   "execution_count": null,
   "outputs": [],
   "source": [
    "%%time\n",
    "W_conH, H_conH, fscores_conH, gscores_conH, lvals_conH = nmf_son_constrained_H(M, ini_W.copy(), ini_H.copy(), _lambda=lam, itermax=itermax, early_stop=EARLY_STOP, verbose=VERBOSE, scale_reg=SCALE_REG)"
   ],
   "metadata": {
    "collapsed": false,
    "pycharm": {
     "name": "#%%\n"
    }
   }
  },
  {
   "cell_type": "code",
   "execution_count": null,
   "outputs": [],
   "source": [
    "%%time\n",
    "W_new, H_new, fscores_new, gscores_new, lvals_new = nmf_son_new(M, ini_W.copy(), ini_H.copy(), _lambda=lam, itermax=itermax, early_stop=EARLY_STOP, verbose=VERBOSE, scale_reg=SCALE_REG)"
   ],
   "metadata": {
    "collapsed": false,
    "pycharm": {
     "name": "#%%\n"
    }
   }
  },
  {
   "cell_type": "code",
   "execution_count": null,
   "outputs": [],
   "source": [
    "save_results('../experimental/saved_models/toy_base.npz', W_base, H_base, fscores_base, gscores_base, lvals_base)\n",
    "save_results('../experimental/saved_models/toy_conh.npz', W_conH, H_conH, fscores_conH, gscores_conH, lvals_conH)\n",
    "save_results('../experimental/saved_models/toy_new.npz', W_new, H_new, fscores_new, gscores_new, lvals_new)"
   ],
   "metadata": {
    "collapsed": false,
    "pycharm": {
     "name": "#%%\n"
    }
   }
  },
  {
   "cell_type": "code",
   "execution_count": null,
   "outputs": [],
   "source": [
    "vers = ['base', 'constrainedH', 'new']\n",
    "f_arr = np.array(np.array([fscores_base[1:], fscores_conH[1:], fscores_new[1:]]))\n",
    "g_arr = np.array([gscores_base[1:], gscores_conH[1:], gscores_new[1:]])\n",
    "lvals_arr = np.array([lvals_base[1:], lvals_conH[1:], lvals_new[1:]])\n",
    "t_arr = f_arr + lvals_arr * g_arr\n",
    "\n",
    "plot_scores_comp(f_arr, g_arr, t_arr, vers)"
   ],
   "metadata": {
    "collapsed": false,
    "pycharm": {
     "name": "#%%\n"
    }
   }
  },
  {
   "cell_type": "code",
   "execution_count": null,
   "outputs": [],
   "source": [
    "f_arr -= find_min(f_arr)\n",
    "g_arr -= find_min(g_arr)\n",
    "t_arr -= find_min(t_arr)\n",
    "\n",
    "plot_scores_comp(f_arr, g_arr, t_arr, vers)"
   ],
   "metadata": {
    "collapsed": false,
    "pycharm": {
     "name": "#%%\n"
    }
   }
  },
  {
   "cell_type": "code",
   "execution_count": null,
   "outputs": [],
   "source": [
    "fig, axs = plt.subplots(1, 4, figsize=(20, 6))\n",
    "\n",
    "axs[0].set_title('Initial')\n",
    "plot_mats(axs[0], M, ini_W, W)\n",
    "axs[1].set_title('Base')\n",
    "plot_mats(axs[1], M, W_base, W)\n",
    "axs[2].set_title('Base w. constrained H')\n",
    "plot_mats(axs[2], M, W_conH, W)\n",
    "axs[3].set_title('New')\n",
    "plot_mats(axs[3], M, W_new, W)"
   ],
   "metadata": {
    "collapsed": false,
    "pycharm": {
     "name": "#%%\n"
    }
   }
  },
  {
   "cell_type": "markdown",
   "source": [
    "## Real data (small Jasper)"
   ],
   "metadata": {
    "collapsed": false,
    "pycharm": {
     "name": "#%% md\n"
    }
   }
  },
  {
   "cell_type": "code",
   "execution_count": null,
   "outputs": [],
   "source": [
    "def plot_seperate_H(H, img_size, figsize, fontsize, normalize_row=False, split=False, filename=None):\n",
    "    rank = H.shape[0]\n",
    "    if normalize_row:\n",
    "        H /= np.linalg.norm(H, axis=1, keepdims=True)\n",
    "    H3d = H.reshape(-1, img_size[0], img_size[1], order='F')\n",
    "    if split:\n",
    "        half_rank = int(rank / 2)\n",
    "        fig, axs = plt.subplots(2, half_rank, figsize=figsize)\n",
    "        i, j, cnt = 0, 0, 0\n",
    "        while cnt < rank:\n",
    "            img = axs[i, j].imshow(H3d[cnt, :, :], cmap='gray')\n",
    "            axs[i, j].set_title(f'$h^{cnt + 1}$', fontsize=fontsize)\n",
    "            axs[i, j].axis('off')\n",
    "            divider = make_axes_locatable(axs[i, j])\n",
    "            cax = divider.append_axes('right', size='5%', pad=0.1)\n",
    "            fig.colorbar(img, cax=cax, orientation='vertical')\n",
    "\n",
    "\n",
    "\n",
    "            j += 1\n",
    "            if cnt + 1 == half_rank:\n",
    "                i = 1\n",
    "                j = 0\n",
    "            cnt += 1\n",
    "    else:\n",
    "        fig, axs = plt.subplots(1, rank, figsize=figsize)\n",
    "        cnt = 0\n",
    "        while cnt < rank:\n",
    "            img = axs[cnt].imshow(H3d[cnt, :, :], cmap='gray')\n",
    "            axs[cnt].set_title(f'$h^{cnt + 1}$', fontsize=fontsize)\n",
    "            axs[cnt].axis('off')\n",
    "            divider = make_axes_locatable(axs[cnt])\n",
    "            cax = divider.append_axes('right', size='5%', pad=0.1)\n",
    "            fig.colorbar(img, cax=cax, orientation='vertical')\n",
    "\n",
    "            cnt += 1\n",
    "    # plt.tight_layout()\n",
    "    if filename:\n",
    "        plt.savefig(filename)\n",
    "\n",
    "\n",
    "def plot_combined_H(H, img_size, figsize, normalize_row=False, split=False, filename=None):\n",
    "    if normalize_row:\n",
    "        H /= np.linalg.norm(H, axis=1, keepdims=True)\n",
    "    H3d = H.reshape(-1, img_size[0], img_size[1], order='F')\n",
    "    if split:\n",
    "        half_rank = int(H.shape[0] / 2)\n",
    "        large_mat = np.vstack([np.hstack(H3d[: half_rank, :, :]), np.hstack(H3d[half_rank: , :, :])])\n",
    "    else:\n",
    "        large_mat = np.hstack(H3d)\n",
    "    plt.figure(figsize=figsize)\n",
    "    ax = plt.axes()\n",
    "    im = plt.imshow(large_mat, cmap='gray')\n",
    "\n",
    "    divider = make_axes_locatable(ax)\n",
    "    cax = divider.append_axes(\"right\", size=\"5%\", pad=0.1)\n",
    "\n",
    "    plt.colorbar(im, cax=cax)\n",
    "\n",
    "    if filename:\n",
    "        plt.savefig(filename)\n",
    "\n",
    "\n",
    "def plot_W_mats(W, figsize, fontsize, split=False, filename=None, scale_y=False, log_scale=False, plot_title=None):\n",
    "    rank = W.shape[1]\n",
    "    wmin = np.min(W)\n",
    "    wmax = np.max(W)\n",
    "\n",
    "    if split:\n",
    "        half_rank = int(rank / 2)\n",
    "        fig, axs = plt.subplots(2, half_rank, figsize=figsize)\n",
    "        i, j, cnt = 0, 0, 0\n",
    "        while cnt < rank:\n",
    "            axs[i, j].plot(W[:, cnt], linewidth=3)\n",
    "            if scale_y:\n",
    "                axs[i, j].set_ylim([min(0, wmin), wmax])\n",
    "            if log_scale:\n",
    "                axs[i, j].set_yscale('log')\n",
    "            axs[i, j].set_title(f'$w_{cnt + 1}$', fontsize=fontsize)\n",
    "            axs[i, j].set_xlabel(f'Bands')\n",
    "            axs[i, j].set_ylabel(f'Reflectance')\n",
    "            j += 1\n",
    "            if cnt + 1 == half_rank:\n",
    "                i = 1\n",
    "                j = 0\n",
    "            cnt += 1\n",
    "    else:\n",
    "        fig, axs = plt.subplots(1, rank, figsize=figsize)\n",
    "        cnt = 0\n",
    "        while cnt < rank:\n",
    "            axs[cnt].plot(W[:, cnt], linewidth=3)\n",
    "            if scale_y:\n",
    "                axs[cnt].set_ylim([min(0, wmin), wmax])\n",
    "            if log_scale:\n",
    "                axs[cnt].set_yscale('log')\n",
    "            axs[cnt].set_title(f'$w_{cnt + 1}$', fontsize=fontsize)\n",
    "            axs[cnt].set_xlabel(f'Bands')\n",
    "            axs[cnt].set_ylabel(f'Reflectance')\n",
    "\n",
    "            cnt += 1\n",
    "    plt.tight_layout()\n",
    "\n",
    "    if plot_title:\n",
    "        fig.suptitle(plot_title, fontsize=25)\n",
    "    if filename:\n",
    "        fig.savefig(filename)"
   ],
   "metadata": {
    "collapsed": false,
    "pycharm": {
     "name": "#%%\n"
    }
   }
  },
  {
   "cell_type": "code",
   "execution_count": null,
   "outputs": [],
   "source": [
    "M = np.load('../experimental/datasets/urban_small.npz')['X']\n",
    "m, n = M.shape\n",
    "\n",
    "r = 6\n",
    "lam = 1\n",
    "itermax = 1000\n",
    "\n",
    "EARLY_STOP = True\n",
    "VERBOSE = False\n",
    "SCALE_REG = True"
   ],
   "metadata": {
    "collapsed": false,
    "pycharm": {
     "name": "#%%\n"
    }
   }
  },
  {
   "cell_type": "code",
   "execution_count": null,
   "outputs": [],
   "source": [
    "ini_W = np.random.rand(m, r)\n",
    "ini_H = np.random.rand(r, n)"
   ],
   "metadata": {
    "collapsed": false,
    "pycharm": {
     "name": "#%%\n"
    }
   }
  },
  {
   "cell_type": "code",
   "execution_count": null,
   "outputs": [],
   "source": [
    "%%time\n",
    "W_base, H_base, fscores_base, gscores_base, lvals_base = nmf_son_base(M, ini_W.copy(), ini_H.copy(), _lambda=lam, itermax=itermax, early_stop=EARLY_STOP, verbose=VERBOSE, scale_reg=SCALE_REG)"
   ],
   "metadata": {
    "collapsed": false,
    "pycharm": {
     "name": "#%%\n"
    }
   }
  },
  {
   "cell_type": "code",
   "execution_count": null,
   "outputs": [],
   "source": [
    "%%time\n",
    "W_conH, H_conH, fscores_conH, gscores_conH, lvals_conH = nmf_son_constrained_H(M, ini_W.copy(), ini_H.copy(), _lambda=lam, itermax=itermax, early_stop=EARLY_STOP, verbose=VERBOSE, scale_reg=SCALE_REG)"
   ],
   "metadata": {
    "collapsed": false,
    "pycharm": {
     "name": "#%%\n"
    }
   }
  },
  {
   "cell_type": "code",
   "execution_count": null,
   "outputs": [],
   "source": [
    "%%time\n",
    "W_new, H_new, fscores_new, gscores_new, lvals_new = nmf_son_new(M, ini_W.copy(), ini_H.copy(), _lambda=lam, itermax=itermax, early_stop=EARLY_STOP, verbose=VERBOSE, scale_reg=SCALE_REG)"
   ],
   "metadata": {
    "collapsed": false,
    "pycharm": {
     "name": "#%%\n"
    }
   }
  },
  {
   "cell_type": "code",
   "execution_count": null,
   "outputs": [],
   "source": [
    "save_results('../experimental/saved_models/urban_sm_base.npz', W_base, H_base, fscores_base, gscores_base, lvals_base)\n",
    "save_results('../experimental/saved_models/urban_sm_conh.npz', W_conH, H_conH, fscores_conH, gscores_conH, lvals_conH)\n",
    "save_results('../experimental/saved_models/urban_sm_new.npz', W_new, H_new, fscores_new, gscores_new, lvals_new)"
   ],
   "metadata": {
    "collapsed": false,
    "pycharm": {
     "name": "#%%\n"
    }
   }
  },
  {
   "cell_type": "code",
   "execution_count": null,
   "outputs": [],
   "source": [
    "vers = ['base', 'constrainedH', 'new']\n",
    "f_arr = np.array(np.array([fscores_base[1:], fscores_conH[1:], fscores_new[1:]]))\n",
    "g_arr = np.array([gscores_base[1:], gscores_conH[1:], gscores_new[1:]])\n",
    "lvals_arr = np.array([lvals_base[1:], lvals_conH[1:], lvals_new[1:]])\n",
    "t_arr = f_arr + lam * g_arr\n",
    "\n",
    "plot_scores_comp(f_arr, g_arr, t_arr, vers)"
   ],
   "metadata": {
    "collapsed": false,
    "pycharm": {
     "name": "#%%\n"
    }
   }
  },
  {
   "cell_type": "code",
   "execution_count": null,
   "outputs": [],
   "source": [
    "f_arr -= find_min(f_arr)\n",
    "g_arr -= find_min(g_arr)\n",
    "t_arr -= find_min(t_arr)\n",
    "\n",
    "plot_scores_comp(f_arr, g_arr, t_arr, vers)"
   ],
   "metadata": {
    "collapsed": false,
    "pycharm": {
     "name": "#%%\n"
    }
   }
  },
  {
   "cell_type": "code",
   "execution_count": null,
   "outputs": [],
   "source": [
    "plot_W_mats(W_base, figsize=(28, 6), fontsize=25, scale_y=True)\n",
    "plot_seperate_H(H_base, (20, 10), figsize=(20, 5), fontsize=15, normalize_row=True)"
   ],
   "metadata": {
    "collapsed": false,
    "pycharm": {
     "name": "#%%\n"
    }
   }
  },
  {
   "cell_type": "code",
   "execution_count": null,
   "outputs": [],
   "source": [
    "plot_W_mats(W_conH, figsize=(28, 6), fontsize=25, scale_y=True)\n",
    "plot_seperate_H(H_conH, (20, 10), figsize=(20, 5), fontsize=15, normalize_row=True)"
   ],
   "metadata": {
    "collapsed": false,
    "pycharm": {
     "name": "#%%\n"
    }
   }
  },
  {
   "cell_type": "code",
   "execution_count": null,
   "outputs": [],
   "source": [
    "plot_W_mats(W_new, figsize=(28, 6), fontsize=25, scale_y=True)\n",
    "plot_seperate_H(H_new, (20, 10), figsize=(20, 5), fontsize=15, normalize_row=True)"
   ],
   "metadata": {
    "collapsed": false,
    "pycharm": {
     "name": "#%%\n"
    }
   }
  },
  {
   "cell_type": "code",
   "execution_count": null,
   "outputs": [],
   "source": [],
   "metadata": {
    "collapsed": false,
    "pycharm": {
     "name": "#%%\n"
    }
   }
  },
  {
   "cell_type": "code",
   "execution_count": null,
   "outputs": [],
   "source": [],
   "metadata": {
    "collapsed": false,
    "pycharm": {
     "name": "#%%\n"
    }
   }
  },
  {
   "cell_type": "code",
   "execution_count": null,
   "outputs": [],
   "source": [
    "lambda_vals = [1e-7, 1e-6, 1e-5, 0.0001, 0.0005, 0.001, 0.005, 0.01, 0.05, 0.1, 0.5, 1, 5, 10, 50, 100, 500, 1000]\n",
    "max_iters = 10000"
   ],
   "metadata": {
    "collapsed": false,
    "pycharm": {
     "name": "#%%\n"
    }
   }
  },
  {
   "cell_type": "code",
   "execution_count": null,
   "outputs": [],
   "source": [
    "EARLY_STOP = True\n",
    "VERBOSE = False\n",
    "SCALE_REG = True"
   ],
   "metadata": {
    "collapsed": false,
    "pycharm": {
     "name": "#%%\n"
    }
   }
  },
  {
   "cell_type": "code",
   "execution_count": null,
   "outputs": [],
   "source": [
    "# toy\n",
    "M, W, H = create_toy_ex(30)\n",
    "m, n = M.shape\n",
    "r = 5\n",
    "\n",
    "ini_filepath = f'../experimental/saved_models/toy/r{r}_ini.npz'\n",
    "save_filepath = '../experimental/saved_models/toy/r{}_l{}_mit{}.npz'\n",
    "\n",
    "\n",
    "ini_W = np.random.rand(m, r)\n",
    "ini_H = np.random.rand(r, n)\n",
    "\n",
    "with open(ini_filepath, 'wb') as fout:\n",
    "    np.savez_compressed(fout, ini_W=ini_W, ini_H=ini_H)\n",
    "\n",
    "for _lam in lambda_vals:\n",
    "    # W, H, fscores, gscores, lvals = nmf_son_new(M, ini_W.copy(), ini_H.copy(), _lambda=_lam, itermax=max_iters, early_stop=EARLY_STOP, verbose=VERBOSE, scale_reg=SCALE_REG)\n",
    "    # save_results(save_filepath.format(r, _lam, max_iters), W, H, fscores, gscores, lvals)\n",
    "    fig, axs = plt.subplots(1, 1, figsize=(20, 6))\n",
    "\n",
    "    axs[0].set_title('Initial')\n",
    "    plot_mats(axs[0], M, ini_W, W)"
   ],
   "metadata": {
    "collapsed": false,
    "pycharm": {
     "name": "#%%\n"
    }
   }
  },
  {
   "cell_type": "code",
   "execution_count": null,
   "outputs": [],
   "source": [
    "# # jasper\n",
    "# M = np.load('../experimental/datasets/jasper_full.npz')['X']\n",
    "# m, n = M.shape\n",
    "# r = 8\n",
    "#\n",
    "# ini_filepath = f'../experimental/saved_models/jasper/r{r}_ini.npz'\n",
    "# save_filepath = '../experimental/saved_models/jasper/r{}_l{}_mit{}.npz'\n",
    "#\n",
    "#\n",
    "# ini_W = np.random.rand(m, r)\n",
    "# ini_H = np.random.rand(r, n)\n",
    "#\n",
    "# with open(ini_filepath, 'wb') as fout:\n",
    "#     np.savez_compressed(fout, ini_W=ini_W, ini_H=ini_H)\n",
    "#\n",
    "# for _lam in lambda_vals:\n",
    "#     W, H, fscores, gscores, lvals = nmf_son_new(M, ini_W.copy(), ini_H.copy(), _lambda=_lam, itermax=max_iters, early_stop=EARLY_STOP, verbose=VERBOSE, scale_reg=SCALE_REG)\n",
    "#     save_results(save_filepath.format(r, _lam, max_iters), W, H, fscores, gscores, lvals)\n",
    "#     print(_lam)"
   ],
   "metadata": {
    "collapsed": false,
    "pycharm": {
     "name": "#%%\n"
    }
   }
  },
  {
   "cell_type": "code",
   "execution_count": null,
   "outputs": [],
   "source": [
    "# # urban\n",
    "# M = np.load('../experimental/datasets/urban_full.npz')['X']\n",
    "# m, n = M.shape\n",
    "# r = 10\n",
    "#\n",
    "# ini_filepath = f'../experimental/saved_models/urban/r{r}_ini.npz'\n",
    "# save_filepath = '../experimental/saved_models/urban/r{}_l{}_it{}.npz'\n",
    "#\n",
    "#\n",
    "# ini_W = np.random.rand(m, r)\n",
    "# ini_H = np.random.rand(r, n)\n",
    "#\n",
    "# with open(ini_filepath, 'wb') as fout:\n",
    "#     np.savez_compressed(fout, ini_W=ini_W, ini_H=ini_H)\n",
    "#\n",
    "# for _lam in lambda_vals:\n",
    "#     W, H, fscores, gscores, lvals = nmf_son_new(M, ini_W.copy(), ini_H.copy(), _lambda=_lam, itermax=max_iters, early_stop=EARLY_STOP, verbose=VERBOSE, scale_reg=SCALE_REG)\n",
    "#     save_results(save_filepath.format(r, _lam, max_iters), W, H, fscores, gscores, lvals)\n",
    "#     print(_lam)"
   ],
   "metadata": {
    "collapsed": false,
    "pycharm": {
     "name": "#%%\n",
     "is_executing": true
    }
   }
  },
  {
   "cell_type": "code",
   "execution_count": null,
   "outputs": [],
   "source": [],
   "metadata": {
    "collapsed": false,
    "pycharm": {
     "name": "#%%\n"
    }
   }
  }
 ],
 "metadata": {
  "kernelspec": {
   "display_name": "Python 3",
   "language": "python",
   "name": "python3"
  },
  "language_info": {
   "codemirror_mode": {
    "name": "ipython",
    "version": 2
   },
   "file_extension": ".py",
   "mimetype": "text/x-python",
   "name": "python",
   "nbconvert_exporter": "python",
   "pygments_lexer": "ipython2",
   "version": "2.7.6"
  }
 },
 "nbformat": 4,
 "nbformat_minor": 0
}