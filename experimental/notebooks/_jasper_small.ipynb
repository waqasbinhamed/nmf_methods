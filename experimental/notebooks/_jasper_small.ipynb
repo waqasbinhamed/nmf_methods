{
 "cells": [
  {
   "cell_type": "code",
   "execution_count": null,
   "metadata": {
    "collapsed": true,
    "pycharm": {
     "name": "#%%\n"
    }
   },
   "outputs": [],
   "source": [
    "import os\n",
    "import numpy as np\n",
    "import matplotlib.pyplot as plt\n",
    "from mpl_toolkits.axes_grid1 import make_axes_locatable\n",
    "from nmf_methods.nmf_son.new import new as nmf_son_new\n",
    "from nmf_methods.nmf_son.utils import save_results, load_results\n",
    "from sklearn.decomposition import NMF\n",
    "from PIL import Image\n",
    "\n",
    "np.random.seed(42)\n",
    "np.set_printoptions(precision=3)"
   ]
  },
  {
   "cell_type": "code",
   "execution_count": null,
   "outputs": [],
   "source": [
    "def plot_scores(fscores, gscores, lambda_vals, plot_title=None, filename=None):\n",
    "    fscores = fscores[1:]\n",
    "    gscores = gscores[1:]\n",
    "    lambda_vals = lambda_vals[1:]\n",
    "    total_score = fscores + lambda_vals * gscores\n",
    "    fig, axs = plt.subplots(1, 2, figsize=(20, 5))\n",
    "    if plot_title:\n",
    "        fig.suptitle(plot_title, fontsize=25)\n",
    "\n",
    "    axs[0].set_yscale('log')\n",
    "    axs[0].plot(total_score, color='black', linewidth=3, label='$F(W, H)$')\n",
    "    axs[0].plot(fscores, color='cyan', linewidth=1.5, label='$f(W, H)$')\n",
    "    axs[0].plot(gscores, color='yellow', linewidth=1.5, label='$g(W)$')\n",
    "    axs[0].set_xlabel('Iterations')\n",
    "    axs[0].legend()\n",
    "\n",
    "    fscores -= min(fscores)\n",
    "    gscores -= min(gscores)\n",
    "    total_score -= min(total_score)\n",
    "\n",
    "    axs[1].set_yscale('log')\n",
    "    axs[1].plot(total_score, color='black', linewidth=3, label='$F(W, H) - min(F(W, H))$')\n",
    "    axs[1].plot(fscores, color='cyan', linewidth=1.5, label='$f(W, H) - min(f(W, H))$')\n",
    "    axs[1].plot(gscores, color='yellow', linewidth=1.5, label='$g(W) - min(g(W))$')\n",
    "    axs[1].set_xlabel('Iterations')\n",
    "    axs[1].legend()\n",
    "\n",
    "    if filename:\n",
    "        fig.savefig(filename)\n",
    "        plt.close()\n",
    "\n",
    "\n",
    "def plot_separate_H(H, img_size, figsize, fontsize, normalize_row=False, split=False, filename=None):\n",
    "    rank = H.shape[0]\n",
    "    if normalize_row:\n",
    "        H /= np.linalg.norm(H, axis=1, keepdims=True)\n",
    "    H3d = H.reshape(-1, img_size[0], img_size[1], order='F')\n",
    "    if split:\n",
    "        half_rank = int(rank / 2)\n",
    "        fig, axs = plt.subplots(2, half_rank, figsize=figsize)\n",
    "        i, j, cnt = 0, 0, 0\n",
    "        while cnt < rank:\n",
    "            img = axs[i, j].imshow(H3d[cnt, :, :], cmap='gray')\n",
    "            axs[i, j].set_title(f'$h^{{{cnt + 1}}}$', fontsize=fontsize)\n",
    "            axs[i, j].axis('off')\n",
    "            divider = make_axes_locatable(axs[i, j])\n",
    "            cax = divider.append_axes('right', size='5%', pad=0.1)\n",
    "            fig.colorbar(img, cax=cax, orientation='vertical')\n",
    "\n",
    "            j += 1\n",
    "            if cnt + 1 == half_rank:\n",
    "                i = 1\n",
    "                j = 0\n",
    "            cnt += 1\n",
    "    else:\n",
    "        fig, axs = plt.subplots(1, rank, figsize=figsize)\n",
    "        cnt = 0\n",
    "        while cnt < rank:\n",
    "            img = axs[cnt].imshow(H3d[cnt, :, :], cmap='gray')\n",
    "            axs[cnt].set_title(f'$h^{{{cnt + 1}}}$', fontsize=fontsize)\n",
    "            axs[cnt].axis('off')\n",
    "            divider = make_axes_locatable(axs[cnt])\n",
    "            cax = divider.append_axes('right', size='5%', pad=0.1)\n",
    "            fig.colorbar(img, cax=cax, orientation='vertical')\n",
    "\n",
    "            cnt += 1\n",
    "    plt.tight_layout()\n",
    "    if filename:\n",
    "        plt.savefig(filename)\n",
    "        plt.close()\n",
    "\n",
    "\n",
    "def plot_combined_H(H, img_size, figsize, normalize_row=False, split=False, filename=None):\n",
    "    if normalize_row:\n",
    "        H /= np.linalg.norm(H, axis=1, keepdims=True)\n",
    "\n",
    "    H3d = H.reshape(-1, img_size[0], img_size[1], order='F')\n",
    "\n",
    "    if split:\n",
    "        half_rank = H.shape[0] // 2\n",
    "        large_mat = np.vstack([np.hstack(H3d[:half_rank]), np.hstack(H3d[half_rank:])])\n",
    "    else:\n",
    "        large_mat = np.hstack(H3d)\n",
    "\n",
    "    fig, ax = plt.subplots(figsize=figsize)\n",
    "    im = ax.imshow(large_mat, cmap='gray')\n",
    "    cax = ax.inset_axes([1.05, 0, 0.05, 1])\n",
    "    plt.colorbar(im, cax=cax)\n",
    "\n",
    "    plt.tight_layout()\n",
    "\n",
    "    if filename:\n",
    "        plt.savefig(filename)\n",
    "        plt.close()\n",
    "\n",
    "\n",
    "def plot_W_mats(W, figsize, fontsize, split=False, filename=None, scale_y=False, log_scale=False, plot_title=None):\n",
    "    rank = W.shape[1]\n",
    "    wmin, wmax = np.min(W), np.max(W)\n",
    "\n",
    "    if split:\n",
    "        half_rank = int(rank / 2)\n",
    "        fig, axs = plt.subplots(2, half_rank, figsize=figsize)\n",
    "        axs = axs.ravel()\n",
    "    else:\n",
    "        fig, axs = plt.subplots(1, rank, figsize=figsize)\n",
    "\n",
    "    for cnt, ax in enumerate(axs):\n",
    "        ax.plot(W[:, cnt], linewidth=3)\n",
    "        if scale_y:\n",
    "            ax.set_ylim([min(0, wmin), wmax])\n",
    "        if log_scale:\n",
    "            ax.set_yscale('log')\n",
    "        ax.set_title(f'$w_{{{cnt + 1}}}$', fontsize=fontsize)\n",
    "        ax.set_xlabel('Bands')\n",
    "        ax.set_ylabel('Reflectance')\n",
    "\n",
    "    plt.tight_layout()\n",
    "    if plot_title:\n",
    "        fig.suptitle(plot_title, fontsize=25)\n",
    "    if filename:\n",
    "        fig.savefig(filename)\n",
    "        plt.close()\n",
    "\n",
    "\n",
    "def merge_images(images_list, filename, delete_images=False):\n",
    "    imgs = [Image.open(i) for i in images_list]\n",
    "    min_img_width = min(i.width for i in imgs)\n",
    "\n",
    "    total_height = 0\n",
    "    for i, img in enumerate(imgs):\n",
    "        if img.width > min_img_width:\n",
    "            imgs[i] = img.resize((min_img_width, int(img.height / img.width * min_img_width)), Image.ANTIALIAS)\n",
    "        total_height += imgs[i].height\n",
    "\n",
    "    img_merge = Image.new(imgs[0].mode, (min_img_width, total_height))\n",
    "    y = 0\n",
    "    for img in imgs:\n",
    "        img_merge.paste(img, (0, y))\n",
    "        y += img.height\n",
    "\n",
    "    img_merge.save(filename)\n",
    "\n",
    "    if delete_images:\n",
    "        for fp in images_list:\n",
    "            os.remove(fp)"
   ],
   "metadata": {
    "collapsed": false,
    "pycharm": {
     "name": "#%%\n"
    }
   }
  },
  {
   "cell_type": "code",
   "execution_count": null,
   "outputs": [],
   "source": [
    "RUN = True\n",
    "\n",
    "EARLY_STOP = True\n",
    "VERBOSE = False\n",
    "SCALE_REG = True"
   ],
   "metadata": {
    "collapsed": false,
    "pycharm": {
     "name": "#%%\n"
    }
   }
  },
  {
   "cell_type": "code",
   "execution_count": null,
   "outputs": [],
   "source": [
    "max_iters = 10000"
   ],
   "metadata": {
    "collapsed": false,
    "pycharm": {
     "name": "#%%\n"
    }
   }
  },
  {
   "cell_type": "code",
   "execution_count": null,
   "outputs": [],
   "source": [
    "M = np.load('../../experimental/datasets/jasper_small_2.npz')['X']\n",
    "m, n = M.shape\n",
    "\n",
    "# img_size = (50, 40)\n",
    "img_size = (10, 10)\n",
    "w_plot_size = (32, 8)\n",
    "h_plot_size = (32, 8)"
   ],
   "metadata": {
    "collapsed": false,
    "pycharm": {
     "name": "#%%\n"
    }
   }
  },
  {
   "cell_type": "code",
   "execution_count": null,
   "outputs": [],
   "source": [
    "# # dataset creation\n",
    "# import matplotlib.patches as patches\n",
    "#\n",
    "# M = np.load('../../experimental/datasets/jasper_full.npz')['X']\n",
    "# M3d = M.reshape(-1, 100, 100, order='F')\n",
    "# img = M3d[80, :, :].copy()\n",
    "#\n",
    "# fig, ax = plt.subplots()\n",
    "# ax.imshow(img, cmap='gray')\n",
    "# # rect = patches.Rectangle((60, 0), 40, 50, linewidth=2, edgecolor='r', facecolor='none')\n",
    "# rect = patches.Rectangle((30, 10), 10, 10, linewidth=2, edgecolor='r', facecolor='none')\n",
    "# ax.add_patch(rect)\n",
    "#\n",
    "# # jasper_small_3d = M3d[:, :50, 60:]\n",
    "# jasper_small_3d = M3d[:, 10: 20, 30: 40]\n",
    "# fig, ax = plt.subplots()\n",
    "# ax.imshow(jasper_small_3d[80], cmap='gray')\n",
    "#\n",
    "# jasper_small = jasper_small_3d.reshape(m, -1, order='F')\n",
    "# with open('../../experimental/datasets/jasper_small_2.npz', 'wb') as fout:\n",
    "#     np.savez_compressed(fout, X=jasper_small)"
   ],
   "metadata": {
    "collapsed": false,
    "pycharm": {
     "name": "#%%\n"
    }
   }
  },
  {
   "cell_type": "markdown",
   "source": [
    "### vanilla NMF (r = 4)"
   ],
   "metadata": {
    "collapsed": false,
    "pycharm": {
     "name": "#%% md\n"
    }
   }
  },
  {
   "cell_type": "code",
   "execution_count": null,
   "outputs": [],
   "source": [
    "r_true = 4\n",
    "ini_filepath = f'../../experimental/saved_models/jasper_small/r{r_true}_ini.npz'\n",
    "save_filepath = f'../../experimental/saved_models/jasper_small/vanilla_r{r_true}_mit{max_iters}.npz'\n",
    "\n",
    "if RUN:\n",
    "    data = np.load(ini_filepath)\n",
    "    ini_W = data['ini_W']\n",
    "    ini_H = data['ini_H']\n",
    "\n",
    "    model = NMF(n_components=r_true, init='custom', random_state=42, max_iter=max_iters)\n",
    "    W = model.fit_transform(X=M, W=ini_W.copy(), H=ini_H.copy())\n",
    "    H = model.components_\n",
    "    with open(save_filepath, 'wb') as fout:\n",
    "        np.savez_compressed(fout, W=W, H=H)\n",
    "else:\n",
    "    data2 = np.load(save_filepath)\n",
    "    W = data2['W']\n",
    "    H = data2['H']\n",
    "    plot_W_mats(W, figsize=(16, 4), fontsize=15, scale_y=False, plot_title='vanilla nmf (r = 4)', filename=f'../../experimental/images/jasper_small/w_vanilla_r{r_true}_mit{max_iters}.png')\n",
    "    plot_separate_H(H, img_size, figsize=(16, 4), fontsize=15, normalize_row=False, split=False, filename=f'../../experimental/images/jasper_small/seph_vanilla_r{r_true}_mit{max_iters}.png')\n",
    "    plot_combined_H(H, img_size, figsize=(16, 4), normalize_row=False, split=False, filename=f'../../experimental/images/jasper_small/combh_vanilla_r{r_true}_mit{max_iters}.png')\n",
    "    merge_images([f'../../experimental/images/jasper_small/w_vanilla_r{r_true}_mit{max_iters}.png', f'../../experimental/images/jasper_small/seph_vanilla_r{r_true}_mit{max_iters}.png', f'../../experimental/images/jasper_small/combh_vanilla_r{r_true}_mit{max_iters}.png'], f'../../experimental/images/jasper_small/r{r_true}_vanilla.png', delete_images=True)"
   ],
   "metadata": {
    "collapsed": false,
    "pycharm": {
     "name": "#%%\n"
    }
   }
  },
  {
   "cell_type": "markdown",
   "source": [
    "### vanilla NMF (r = 20)"
   ],
   "metadata": {
    "collapsed": false,
    "pycharm": {
     "name": "#%% md\n"
    }
   }
  },
  {
   "cell_type": "code",
   "execution_count": null,
   "outputs": [],
   "source": [
    "r = 20\n",
    "\n",
    "ini_filepath = f'../../experimental/saved_models/jasper_small/r{r}_ini.npz'\n",
    "save_filepath = f'../../experimental/saved_models/jasper_small/vanilla_r{r}_mit{max_iters}.npz'"
   ],
   "metadata": {
    "collapsed": false,
    "pycharm": {
     "name": "#%%\n"
    }
   }
  },
  {
   "cell_type": "code",
   "execution_count": null,
   "outputs": [],
   "source": [
    "data = np.load(ini_filepath)\n",
    "ini_W = data['ini_W']\n",
    "ini_H = data['ini_H']"
   ],
   "metadata": {
    "collapsed": false,
    "pycharm": {
     "name": "#%%\n"
    }
   }
  },
  {
   "cell_type": "code",
   "execution_count": null,
   "outputs": [],
   "source": [
    "if RUN:\n",
    "    model = NMF(n_components=r, init='custom', random_state=42, max_iter=max_iters)\n",
    "    W = model.fit_transform(X=M, W=ini_W.copy(), H=ini_H.copy())\n",
    "    H = model.components_\n",
    "    with open(save_filepath, 'wb') as fout:\n",
    "        np.savez_compressed(fout, W=W, H=H)\n",
    "else:\n",
    "    data2 = np.load(save_filepath)\n",
    "    W = data2['W']\n",
    "    H = data2['H']\n",
    "    plot_W_mats(W, figsize=w_plot_size, fontsize=15, split=True, scale_y=False, plot_title='vanilla nmf (r = 20)', filename=f'../../experimental/images/jasper_small/w_vanilla_r{r}_mit{max_iters}.png')\n",
    "    plot_separate_H(H, img_size, figsize=h_plot_size, fontsize=15, normalize_row=False, split=True, filename=f'../../experimental/images/jasper_small/seph_vanilla_r{r}_mit{max_iters}.png')\n",
    "    plot_combined_H(H, img_size, figsize=h_plot_size, normalize_row=False, split=True, filename=f'../../experimental/images/jasper_small/combh_vanilla_r{r}_mit{max_iters}.png')\n",
    "    merge_images([f'../../experimental/images/jasper_small/w_vanilla_r{r}_mit{max_iters}.png', f'../../experimental/images/jasper_small/seph_vanilla_r{r}_mit{max_iters}.png', f'../../experimental/images/jasper_small/combh_vanilla_r{r}_mit{max_iters}.png'], f'../../experimental/images/jasper_small/r{r}_vanilla.png', delete_images=True)"
   ],
   "metadata": {
    "collapsed": false,
    "pycharm": {
     "name": "#%%\n"
    }
   }
  },
  {
   "cell_type": "markdown",
   "source": [
    "### nmf-son with random initialization"
   ],
   "metadata": {
    "collapsed": false,
    "pycharm": {
     "name": "#%% md\n"
    }
   }
  },
  {
   "cell_type": "code",
   "execution_count": null,
   "outputs": [],
   "source": [
    "# lambda_vals = [1e-7, 1e-6, 1e-5, 0.0001, 0.0005, 0.001, 0.005, 0.01, 0.05, 0.1, 0.5, 1, 5, 10, 50, 100, 500, 1000]\n",
    "lambda_vals = [1500, 2000, 5000, 10000]\n",
    "\n",
    "save_filepath = '../../experimental/saved_models/jasper_small/r{}_l{}_mit{}.npz'\n",
    "\n",
    "for _lam in lambda_vals:\n",
    "    if RUN:\n",
    "        W, H, fscores, gscores, lvals = nmf_son_new(M, ini_W.copy(), ini_H.copy(), lam=_lam, itermax=max_iters, early_stop=EARLY_STOP, verbose=VERBOSE, scale_reg=SCALE_REG)\n",
    "        save_results(save_filepath.format(r, _lam, max_iters), W, H, fscores, gscores, lvals)\n",
    "    else:\n",
    "        W, H, fscores, gscores, lvals = load_results(save_filepath.format(r, _lam, max_iters))\n",
    "        plot_scores(fscores, gscores, lvals, plot_title=_lam)\n",
    "        plot_W_mats(W, figsize=w_plot_size, fontsize=15, split=True, scale_y=False, filename=f'../../experimental/images/jasper_small/w_r{r}_l{_lam}_mit{max_iters}.png')\n",
    "        plot_separate_H(H, img_size, figsize=h_plot_size, fontsize=15, normalize_row=False, split=True, filename=f'../../experimental/images/jasper_small/seph_r{r}_l{_lam}_mit{max_iters}.png')\n",
    "        plot_combined_H(H, img_size, figsize=h_plot_size, normalize_row=False, split=True, filename=f'../../experimental/images/jasper_small/combh_r{r}_l{_lam}_mit{max_iters}.png')\n",
    "        merge_images([f'../../experimental/images/jasper_small/w_r{r}_l{_lam}_mit{max_iters}.png', f'../../experimental/images/jasper_small/seph_r{r}_l{_lam}_mit{max_iters}.png', f'../../experimental/images/jasper_small/combh_r{r}_l{_lam}_mit{max_iters}.png'], f'../../experimental/images/jasper_small/random/r{r}_l{_lam}_mit{max_iters}_thres.png', delete_images=True)\n",
    "    print(_lam)"
   ],
   "metadata": {
    "collapsed": false,
    "pycharm": {
     "name": "#%%\n"
    }
   }
  },
  {
   "cell_type": "markdown",
   "source": [
    "### nmf-son with vanilla nmf initialization"
   ],
   "metadata": {
    "collapsed": false,
    "pycharm": {
     "name": "#%% md\n"
    }
   }
  },
  {
   "cell_type": "code",
   "execution_count": null,
   "outputs": [],
   "source": [
    "# # lambda_vals = [1e-7, 1e-6, 1e-5, 0.0001, 0.0005, 0.001, 0.005, 0.01, 0.05, 0.1, 0.5, 1, 5, 10, 50, 100, 500, 1000]\n",
    "#\n",
    "# ini_filepath = f'../../experimental/saved_models/jasper_small/vanilla_r{r}_mit{max_iters}.npz'\n",
    "# save_filepath = '../../experimental/saved_models/jasper_small/r{}_vl{}_mit{}.npz'\n",
    "#\n",
    "# data = np.load(ini_filepath)\n",
    "# ini_W = data['W']\n",
    "# ini_H = data['H']\n",
    "#\n",
    "# for _lam in lambda_vals:\n",
    "#     if RUN:\n",
    "#         W, H, fscores, gscores, lvals = nmf_son_new(M, ini_W.copy(), ini_H.copy(), lam=_lam, itermax=max_iters, early_stop=EARLY_STOP, verbose=VERBOSE, scale_reg=SCALE_REG)\n",
    "#         save_results(save_filepath.format(r, _lam, max_iters), W, H, fscores, gscores, lvals)\n",
    "#     else:\n",
    "#         W, H, fscores, gscores, lvals = load_results(save_filepath.format(r, _lam, max_iters))\n",
    "#         plot_scores(fscores, gscores, lvals, plot_title=_lam)\n",
    "#         plot_W_mats(W, figsize=w_plot_size, fontsize=15, split=True, scale_y=False, filename=f'../../experimental/images/jasper_small/w_r{r}_vl{_lam}_mit{max_iters}.png')\n",
    "#         plot_separate_H(H, img_size, figsize=h_plot_size, fontsize=15, normalize_row=False, split=True, filename=f'../../experimental/images/jasper_small/seph_r{r}_vl{_lam}_mit{max_iters}.png')\n",
    "#         plot_combined_H(H, img_size, figsize=h_plot_size, normalize_row=False, split=True, filename=f'../../experimental/images/jasper_small/combh_r{r}_vl{_lam}_mit{max_iters}.png')\n",
    "#         merge_images([f'../../experimental/images/jasper_small/w_r{r}_vl{_lam}_mit{max_iters}.png', f'../../experimental/images/jasper_small/seph_r{r}_vl{_lam}_mit{max_iters}.png', f'../../experimental/images/jasper_small/combh_r{r}_vl{_lam}_mit{max_iters}.png'], f'../../experimental/images/jasper_small/vanilla/r{r}_vl{_lam}_mit{max_iters}.png', delete_images=True)\n",
    "#     print(_lam)"
   ],
   "metadata": {
    "collapsed": false,
    "pycharm": {
     "name": "#%%\n"
    }
   }
  },
  {
   "cell_type": "markdown",
   "source": [
    "### r = n"
   ],
   "metadata": {
    "collapsed": false,
    "pycharm": {
     "name": "#%% md\n"
    }
   }
  },
  {
   "cell_type": "code",
   "execution_count": null,
   "outputs": [],
   "source": [
    "r = n\n",
    "lambda_vals = [0.001, 0.01, 0.1, 1, 10, 100, 1000, 10000]\n",
    "\n",
    "ini_filepath = f'../../experimental/saved_models/jasper_small_2/r{r}_ini.npz'\n",
    "save_filepath = '../../experimental/saved_models/jasper_small_2/r{}_l{}_mit{}.npz'"
   ],
   "metadata": {
    "collapsed": false,
    "pycharm": {
     "name": "#%%\n"
    }
   }
  },
  {
   "cell_type": "code",
   "execution_count": null,
   "outputs": [],
   "source": [
    "if os.path.exists(ini_filepath):\n",
    "    data = np.load(ini_filepath)\n",
    "    ini_W = data['ini_W']\n",
    "    ini_H = data['ini_H']\n",
    "else:\n",
    "    ini_W = np.random.rand(m, r)\n",
    "    ini_H = np.random.rand(r, n)\n",
    "    with open(ini_filepath, 'wb') as fout:\n",
    "        np.savez_compressed(fout, ini_W=ini_W, ini_H=ini_H)"
   ],
   "metadata": {
    "collapsed": false,
    "pycharm": {
     "name": "#%%\n"
    }
   }
  },
  {
   "cell_type": "code",
   "execution_count": null,
   "outputs": [],
   "source": [
    "for _lam in lambda_vals:\n",
    "    if RUN:\n",
    "        W, H, fscores, gscores, lvals = nmf_son_new(M, ini_W.copy(), ini_H.copy(), lam=_lam, itermax=max_iters, early_stop=EARLY_STOP, verbose=VERBOSE, scale_reg=SCALE_REG)\n",
    "        save_results(save_filepath.format(r, _lam, max_iters), W, H, fscores, gscores, lvals)\n",
    "    else:\n",
    "        W, H, fscores, gscores, lvals = load_results(save_filepath.format(r, _lam, max_iters))\n",
    "        plot_scores(fscores, gscores, lvals, plot_title=_lam)\n",
    "        plot_W_mats(W, figsize=w_plot_size, fontsize=15, split=True, scale_y=False, filename=f'../../experimental/images/jasper_small_2/w_r{r}_l{_lam}_mit{max_iters}.png')\n",
    "        plot_separate_H(H, img_size, figsize=h_plot_size, fontsize=15, normalize_row=False, split=True, filename=f'../../experimental/images/jasper_small_2/seph_r{r}_l{_lam}_mit{max_iters}.png')\n",
    "        plot_combined_H(H, img_size, figsize=h_plot_size, normalize_row=False, split=True, filename=f'../../experimental/images/jasper_small_2/combh_r{r}_l{_lam}_mit{max_iters}.png')\n",
    "        merge_images([f'../../experimental/images/jasper_small_2/w_r{r}_l{_lam}_mit{max_iters}.png', f'../../experimental/images/jasper_small_2/seph_r{r}_l{_lam}_mit{max_iters}.png', f'../../experimental/images/jasper_small_2/combh_r{r}_l{_lam}_mit{max_iters}.png'], f'../../experimental/images/jasper_small_2/random/r{r}_l{_lam}_mit{max_iters}_thres.png', delete_images=True)\n",
    "    print(_lam)"
   ],
   "metadata": {
    "collapsed": false,
    "pycharm": {
     "name": "#%%\n",
     "is_executing": true
    }
   }
  },
  {
   "cell_type": "code",
   "execution_count": null,
   "outputs": [],
   "source": [],
   "metadata": {
    "collapsed": false,
    "pycharm": {
     "name": "#%%\n"
    }
   }
  }
 ],
 "metadata": {
  "kernelspec": {
   "display_name": "Python 3",
   "language": "python",
   "name": "python3"
  },
  "language_info": {
   "codemirror_mode": {
    "name": "ipython",
    "version": 2
   },
   "file_extension": ".py",
   "mimetype": "text/x-python",
   "name": "python",
   "nbconvert_exporter": "python",
   "pygments_lexer": "ipython2",
   "version": "2.7.6"
  }
 },
 "nbformat": 4,
 "nbformat_minor": 0
}