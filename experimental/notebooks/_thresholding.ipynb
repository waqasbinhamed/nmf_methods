{
 "cells": [
  {
   "cell_type": "code",
   "execution_count": 2,
   "outputs": [],
   "source": [
    "import numpy as np\n",
    "import matplotlib.pyplot as plt\n",
    "from nmf_methods.nmf_son.utils import load_results, plot_and_merge, plot_W_mats, plot_combined_H, plot_separate_H\n",
    "\n",
    "np.random.seed(42)\n",
    "np.set_printoptions(precision=3)"
   ],
   "metadata": {
    "collapsed": false,
    "pycharm": {
     "name": "#%%\n"
    }
   }
  },
  {
   "cell_type": "code",
   "execution_count": 3,
   "outputs": [],
   "source": [
    "# import matplotlib.pyplot as plt\n",
    "# import matplotlib.patches as patches\n",
    "#\n",
    "# # Plot the matrix with imshow\n",
    "# img = plt.imshow(M_2d, cmap='gray')\n",
    "#\n",
    "# # Add a rectangular box around the region of interest\n",
    "# # rect = patches.Rectangle((60, 0), 40, 50, linewidth=2, edgecolor='r', facecolor='none')\n",
    "# rect = patches.Rectangle((30, 10), 10, 10, linewidth=2, edgecolor='r', facecolor='none')\n",
    "# plt.gca().add_patch(rect)\n",
    "# plt.tight_layout()\n",
    "#\n",
    "# # Show the plot\n",
    "# plt.savefig('../../experimental/nmfson_results/max_rank/outlined_subregion.png')"
   ],
   "metadata": {
    "collapsed": false,
    "pycharm": {
     "name": "#%%\n"
    }
   }
  },
  {
   "cell_type": "code",
   "execution_count": 13,
   "outputs": [],
   "source": [
    "M = np.load('../../experimental/datasets/jasper_small.npz')['X']\n",
    "m, n = M.shape\n",
    "\n",
    "r = 20\n",
    "# imgsize = (100, 100)\n",
    "imgsize = (50, 40)\n",
    "# imgsize = (10, 10)\n",
    "figsize = (32, 8)\n",
    "fontsize = 10\n",
    "num_rows = 10\n",
    "_lam = 1000\n",
    "max_iters = 10000"
   ],
   "metadata": {
    "collapsed": false,
    "pycharm": {
     "name": "#%%\n"
    }
   }
  },
  {
   "cell_type": "code",
   "execution_count": 14,
   "outputs": [],
   "source": [
    "save_filepath = '../../experimental/saved_models/jasper_small/r{}_l{}_mit{}.npz'\n",
    "W, H, fscores, gscores, lvals = load_results(save_filepath.format(r, _lam, max_iters))"
   ],
   "metadata": {
    "collapsed": false,
    "pycharm": {
     "name": "#%%\n"
    }
   }
  },
  {
   "cell_type": "code",
   "execution_count": 15,
   "outputs": [
    {
     "data": {
      "text/plain": "<Figure size 640x480 with 2 Axes>",
      "image/png": "[encoded data removed]"
     },
     "metadata": {},
     "output_type": "display_data"
    }
   ],
   "source": [
    "plt.imshow(np.corrcoef(W, rowvar=False), 'gray')\n",
    "plt.colorbar()\n",
    "plt.tight_layout()\n",
    "plt.savefig('/Users/waqas/Desktop/nmfson_results/jasper_small/correlation_matrix.png')"
   ],
   "metadata": {
    "collapsed": false,
    "pycharm": {
     "name": "#%%\n"
    }
   }
  },
  {
   "cell_type": "code",
   "execution_count": 16,
   "outputs": [],
   "source": [
    "img_filenames = ['/Users/waqas/Desktop/nmfson_results/jasper_small/unprocessed/w_plots.png',\n",
    "                 '/Users/waqas/Desktop/nmfson_results/jasper_small/unprocessed/separate_h_plots.png',\n",
    "                 '/Users/waqas/Desktop/nmfson_results/jasper_small/unprocessed/combined_h_plots.png',\n",
    "                 '/Users/waqas/Desktop/nmfson_results/jasper_small/unprocessed/all_combined.png']\n",
    "plot_and_merge(W, H, imgsize=imgsize, figsize=figsize, fontsize=fontsize, filenames=img_filenames, num_rows=2)"
   ],
   "metadata": {
    "collapsed": false,
    "pycharm": {
     "name": "#%%\n"
    }
   }
  },
  {
   "cell_type": "code",
   "execution_count": 34,
   "outputs": [],
   "source": [
    "# unique_idxs = [4, 10, 13, 17]\n",
    "unique_idxs = [2, 4, 16, 17, 19]\n",
    "other_idxs = [x for x in range(r) if x not in unique_idxs]"
   ],
   "metadata": {
    "collapsed": false,
    "pycharm": {
     "name": "#%%\n"
    }
   }
  },
  {
   "cell_type": "code",
   "execution_count": 35,
   "outputs": [],
   "source": [
    "# sum\n",
    "hsum = H[other_idxs, :].sum(axis=0, keepdims=True)\n",
    "wsum = W[:, other_idxs].sum(axis=1, keepdims=True)\n",
    "\n",
    "new_W = np.hstack((W[:, unique_idxs], wsum))\n",
    "new_H = np.vstack((H[unique_idxs, :], hsum))"
   ],
   "metadata": {
    "collapsed": false,
    "pycharm": {
     "name": "#%%\n"
    }
   }
  },
  {
   "cell_type": "code",
   "execution_count": 36,
   "outputs": [],
   "source": [
    "img_filenames = ['../../experimental/nmfson_results/jasper_small/reduced_rank/w_plots.png',\n",
    "                 '../../experimental/nmfson_results/jasper_small/reduced_rank/separate_h_plots.png',\n",
    "                 '../../experimental/nmfson_results/jasper_small/reduced_rank/combined_h_plots.png',\n",
    "                 '../../experimental/nmfson_results/jasper_small/reduced_rank/all_combined.png']\n",
    "plot_and_merge(new_W, new_H, imgsize=imgsize, figsize=figsize, fontsize=fontsize, filenames=img_filenames, num_rows=1)"
   ],
   "metadata": {
    "collapsed": false,
    "pycharm": {
     "name": "#%%\n"
    }
   }
  },
  {
   "cell_type": "code",
   "execution_count": 37,
   "outputs": [],
   "source": [
    "threshold = 0.2\n",
    "tmp_H = new_H.copy()\n",
    "tmp_H[tmp_H >= threshold] = 1\n",
    "tmp_H[tmp_H < threshold] = 0\n",
    "\n",
    "img_filenames = ['../../experimental/nmfson_results/jasper_small/after_thresholding/w_plots.png',\n",
    "                 '../../experimental/nmfson_results/jasper_small/after_thresholding/separate_h_plots.png',\n",
    "                 '../../experimental/nmfson_results/jasper_small/after_thresholding/combined_h_plots.png',\n",
    "                 '../../experimental/nmfson_results/jasper_small/after_thresholding/all_combined.png']\n",
    "plot_and_merge(new_W, tmp_H, imgsize=imgsize, figsize=figsize, fontsize=fontsize, filenames=img_filenames, num_rows=1)"
   ],
   "metadata": {
    "collapsed": false,
    "pycharm": {
     "name": "#%%\n"
    }
   }
  },
  {
   "cell_type": "code",
   "execution_count": 26,
   "outputs": [],
   "source": [
    "# # mean\n",
    "# havg = H[other_idxs, :].mean(axis=0, keepdims=True)\n",
    "# wavg = W[:, other_idxs].mean(axis=1, keepdims=True)\n",
    "#\n",
    "# new_W = np.hstack((W[:, unique_idxs], wavg))\n",
    "# new_H = np.vstack((H[unique_idxs, :], havg))"
   ],
   "metadata": {
    "collapsed": false,
    "pycharm": {
     "name": "#%%\n"
    }
   }
  },
  {
   "cell_type": "code",
   "execution_count": 27,
   "outputs": [],
   "source": [
    "# max_idxs = np.argmax(new_H, axis=0)\n",
    "# thres_H = np.zeros_like(new_H)\n",
    "# thres_H[max_idxs, np.arange(new_H.shape[1])] = 1\n",
    "#\n",
    "# img_filenames = [f'../../experimental/images/jasper/w_r{r}_l{_lam}_mit{max_iters}_thres_max.png',\n",
    "#                  f'../../experimental/images/jasper/seph_r{r}_l{_lam}_mit{max_iters}_thres_max.png',\n",
    "#                  f'../../experimental/images/jasper/combh_r{r}_l{_lam}_mit{max_iters}_thres_max.png',\n",
    "#                  f'../../experimental/images/jasper/r{r}_l{_lam}_mit{max_iters}_thres_max.png']\n",
    "# plot_and_merge(new_W, thres_H, imgsize=imgsize, figsize=figsize, fontsize=10, filenames=img_filenames, num_rows=num_rows)"
   ],
   "metadata": {
    "collapsed": false,
    "pycharm": {
     "name": "#%%\n"
    }
   }
  },
  {
   "cell_type": "code",
   "execution_count": 28,
   "outputs": [],
   "source": [
    "# for threshold in [0.1, 0.2,  0.3, 0.4, 0.5]:\n",
    "#     tmp_H = new_H.copy()\n",
    "#     tmp_H[tmp_H >= threshold] = 1\n",
    "#     tmp_H[tmp_H < threshold] = 0\n",
    "#\n",
    "#     img_filenames = [f'../../experimental/images/jasper/w_r{r}_l{_lam}_mit{max_iters}_thres_{threshold}.png',\n",
    "#                      f'../../experimental/images/jasper/seph_r{r}_l{_lam}_mit{max_iters}_thres_{threshold}.png',\n",
    "#                      f'../../experimental/images/jasper/combh_r{r}_l{_lam}_mit{max_iters}_thres_{threshold}.png',\n",
    "#                      f'../../experimental/images/jasper/r{r}_l{_lam}_mit{max_iters}_thres_{threshold}.png']\n",
    "#     plot_and_merge(new_W, tmp_H, imgsize=imgsize, figsize=figsize, fontsize=10, filenames=img_filenames, num_rows=num_rows)"
   ],
   "metadata": {
    "collapsed": false,
    "pycharm": {
     "name": "#%%\n"
    }
   }
  },
  {
   "cell_type": "code",
   "execution_count": 28,
   "outputs": [],
   "source": [],
   "metadata": {
    "collapsed": false,
    "pycharm": {
     "name": "#%%\n"
    }
   }
  }
 ],
 "metadata": {
  "kernelspec": {
   "display_name": "Python 3",
   "language": "python",
   "name": "python3"
  },
  "language_info": {
   "codemirror_mode": {
    "name": "ipython",
    "version": 2
   },
   "file_extension": ".py",
   "mimetype": "text/x-python",
   "name": "python",
   "nbconvert_exporter": "python",
   "pygments_lexer": "ipython2",
   "version": "2.7.6"
  }
 },
 "nbformat": 4,
 "nbformat_minor": 0
}