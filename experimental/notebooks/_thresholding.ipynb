{
 "cells": [
  {
   "cell_type": "code",
   "execution_count": 1,
   "outputs": [],
   "source": [
    "import os\n",
    "import numpy as np\n",
    "import matplotlib.pyplot as plt\n",
    "from mpl_toolkits.axes_grid1 import make_axes_locatable\n",
    "from nmf_methods.nmf_son.utils import load_results\n",
    "from PIL import Image\n",
    "\n",
    "np.random.seed(42)\n",
    "np.set_printoptions(precision=3)"
   ],
   "metadata": {
    "collapsed": false,
    "pycharm": {
     "name": "#%%\n"
    }
   }
  },
  {
   "cell_type": "code",
   "execution_count": 2,
   "outputs": [],
   "source": [
    "def plot_separate_H(H, img_size, figsize, fontsize, normalize_row=False, split=False, filename=None):\n",
    "    rank = H.shape[0]\n",
    "    if normalize_row:\n",
    "        H /= np.linalg.norm(H, axis=1, keepdims=True)\n",
    "    H3d = H.reshape(-1, img_size[0], img_size[1], order='F')\n",
    "    if split:\n",
    "        half_rank = int(rank / 2)\n",
    "        fig, axs = plt.subplots(2, half_rank, figsize=figsize)\n",
    "        i, j, cnt = 0, 0, 0\n",
    "        while cnt < rank:\n",
    "            img = axs[i, j].imshow(H3d[cnt, :, :], cmap='gray')\n",
    "            axs[i, j].set_title(f'$h^{{{cnt + 1}}}$', fontsize=fontsize)\n",
    "            axs[i, j].axis('off')\n",
    "            divider = make_axes_locatable(axs[i, j])\n",
    "            cax = divider.append_axes('right', size='5%', pad=0.1)\n",
    "            fig.colorbar(img, cax=cax, orientation='vertical')\n",
    "\n",
    "            j += 1\n",
    "            if cnt + 1 == half_rank:\n",
    "                i = 1\n",
    "                j = 0\n",
    "            cnt += 1\n",
    "    else:\n",
    "        fig, axs = plt.subplots(1, rank, figsize=figsize)\n",
    "        cnt = 0\n",
    "        while cnt < rank:\n",
    "            img = axs[cnt].imshow(H3d[cnt, :, :], cmap='gray')\n",
    "            axs[cnt].set_title(f'$h^{{{cnt + 1}}}$', fontsize=fontsize)\n",
    "            axs[cnt].axis('off')\n",
    "            divider = make_axes_locatable(axs[cnt])\n",
    "            cax = divider.append_axes('right', size='5%', pad=0.1)\n",
    "            fig.colorbar(img, cax=cax, orientation='vertical')\n",
    "\n",
    "            cnt += 1\n",
    "    plt.tight_layout()\n",
    "    if filename:\n",
    "        plt.savefig(filename)\n",
    "        plt.close()\n",
    "\n",
    "\n",
    "def plot_combined_H(H, img_size, figsize, normalize_row=False, split=False, filename=None):\n",
    "    if normalize_row:\n",
    "        H /= np.linalg.norm(H, axis=1, keepdims=True)\n",
    "\n",
    "    H3d = H.reshape(-1, img_size[0], img_size[1], order='F')\n",
    "\n",
    "    if split:\n",
    "        half_rank = H.shape[0] // 2\n",
    "        large_mat = np.vstack([np.hstack(H3d[:half_rank]), np.hstack(H3d[half_rank:])])\n",
    "    else:\n",
    "        large_mat = np.hstack(H3d)\n",
    "\n",
    "    fig, ax = plt.subplots(figsize=figsize)\n",
    "    im = ax.imshow(large_mat, cmap='gray')\n",
    "    cax = ax.inset_axes([1.05, 0, 0.05, 1])\n",
    "    plt.colorbar(im, cax=cax)\n",
    "\n",
    "    plt.tight_layout()\n",
    "\n",
    "    if filename:\n",
    "        plt.savefig(filename)\n",
    "        plt.close()\n",
    "\n",
    "\n",
    "def plot_W_mats(W, figsize, fontsize, split=False, filename=None, scale_y=False, log_scale=False, plot_title=None):\n",
    "    rank = W.shape[1]\n",
    "    wmin, wmax = np.min(W), np.max(W)\n",
    "\n",
    "    if split:\n",
    "        half_rank = int(rank / 2)\n",
    "        fig, axs = plt.subplots(2, half_rank, figsize=figsize)\n",
    "        axs = axs.ravel()\n",
    "    else:\n",
    "        fig, axs = plt.subplots(1, rank, figsize=figsize)\n",
    "\n",
    "    for cnt, ax in enumerate(axs):\n",
    "        ax.plot(W[:, cnt], linewidth=3)\n",
    "        if scale_y:\n",
    "            ax.set_ylim([min(0, wmin), wmax])\n",
    "        if log_scale:\n",
    "            ax.set_yscale('log')\n",
    "        ax.set_title(f'$w_{{{cnt + 1}}}$', fontsize=fontsize)\n",
    "        ax.set_xlabel('Bands')\n",
    "        ax.set_ylabel('Reflectance')\n",
    "\n",
    "    plt.tight_layout()\n",
    "    if plot_title:\n",
    "        fig.suptitle(plot_title, fontsize=25)\n",
    "    if filename:\n",
    "        fig.savefig(filename)\n",
    "        plt.close()\n",
    "\n",
    "\n",
    "def merge_images(images_list, filename, delete_images=False):\n",
    "    imgs = [Image.open(i) for i in images_list]\n",
    "    min_img_width = min(i.width for i in imgs)\n",
    "\n",
    "    total_height = 0\n",
    "    for i, img in enumerate(imgs):\n",
    "        if img.width > min_img_width:\n",
    "            imgs[i] = img.resize((min_img_width, int(img.height / img.width * min_img_width)), Image.ANTIALIAS)\n",
    "        total_height += imgs[i].height\n",
    "\n",
    "    img_merge = Image.new(imgs[0].mode, (min_img_width, total_height))\n",
    "    y = 0\n",
    "    for img in imgs:\n",
    "        img_merge.paste(img, (0, y))\n",
    "        y += img.height\n",
    "\n",
    "    img_merge.save(filename)\n",
    "\n",
    "    if delete_images:\n",
    "        for fp in images_list:\n",
    "            os.remove(fp)"
   ],
   "metadata": {
    "collapsed": false,
    "pycharm": {
     "name": "#%%\n"
    }
   }
  },
  {
   "cell_type": "code",
   "execution_count": 3,
   "outputs": [],
   "source": [
    "# jasper small\n",
    "M = np.load('../../experimental/datasets/jasper_small.npz')['X']\n",
    "m, n = M.shape\n",
    "\n",
    "ini_ver = 2\n",
    "r = 20\n",
    "_lam = 1000\n",
    "max_iters = 10000\n",
    "\n",
    "\n",
    "img_size = (50, 40)\n",
    "w_plot_size = (32, 8)\n",
    "h_plot_size = (32, 8)"
   ],
   "metadata": {
    "collapsed": false,
    "pycharm": {
     "name": "#%%\n"
    }
   }
  },
  {
   "cell_type": "code",
   "execution_count": 4,
   "outputs": [],
   "source": [
    "save_filepath = '../../experimental/saved_models/jasper_small/ini_{}/r{}_l{}_mit{}.npz'\n",
    "W, H, fscores, gscores, lvals = load_results(save_filepath.format(ini_ver, r, _lam, max_iters))"
   ],
   "metadata": {
    "collapsed": false,
    "pycharm": {
     "name": "#%%\n"
    }
   }
  },
  {
   "cell_type": "code",
   "execution_count": 5,
   "outputs": [],
   "source": [
    "unique_idxs = [2, 4, 16, 17, 19]\n",
    "other_idxs = [x for x in range(r) if x not in unique_idxs]"
   ],
   "metadata": {
    "collapsed": false,
    "pycharm": {
     "name": "#%%\n"
    }
   }
  },
  {
   "cell_type": "code",
   "execution_count": 6,
   "outputs": [],
   "source": [
    "# sum\n",
    "hsum = H[other_idxs, :].sum(axis=0, keepdims=True)\n",
    "wsum = W[:, other_idxs].sum(axis=1, keepdims=True)\n",
    "\n",
    "new_W = np.hstack((W[:, unique_idxs], wsum))\n",
    "new_H = np.vstack((H[unique_idxs, :], hsum))"
   ],
   "metadata": {
    "collapsed": false,
    "pycharm": {
     "name": "#%%\n"
    }
   }
  },
  {
   "cell_type": "code",
   "execution_count": 7,
   "outputs": [],
   "source": [
    "# mean\n",
    "havg = H[other_idxs, :].mean(axis=0, keepdims=True)\n",
    "wavg = W[:, other_idxs].mean(axis=1, keepdims=True)\n",
    "\n",
    "new_W = np.hstack((W[:, unique_idxs], wavg))\n",
    "new_H = np.vstack((H[unique_idxs, :], havg))"
   ],
   "metadata": {
    "collapsed": false,
    "pycharm": {
     "name": "#%%\n"
    }
   }
  },
  {
   "cell_type": "code",
   "execution_count": 8,
   "outputs": [],
   "source": [
    "# max_idxs = np.argmax(new_H, axis=0)\n",
    "# thres_H = np.zeros_like(new_H)\n",
    "# thres_H[max_idxs, np.arange(new_H.shape[1])] = 1"
   ],
   "metadata": {
    "collapsed": false,
    "pycharm": {
     "name": "#%%\n"
    }
   }
  },
  {
   "cell_type": "code",
   "execution_count": 11,
   "outputs": [],
   "source": [
    "for threshold in [0.05, 0.1, 0.2, 0.3, 0.4, 0.5, 0.6, 0.7, 0.8, 0.9, 0.95]:\n",
    "    tmp_H = new_H.copy()\n",
    "    tmp_H[tmp_H >= threshold] = 1\n",
    "    tmp_H[tmp_H < threshold] = 0\n",
    "\n",
    "    plot_W_mats(new_W, figsize=w_plot_size, fontsize=15, filename=f'../../experimental/images/jasper_small/w_vanilla_r{r}_mit{max_iters}.png')\n",
    "    plot_separate_H(tmp_H, img_size, figsize=h_plot_size, fontsize=15, filename=f'../../experimental/images/jasper_small/seph_vanilla_r{r}_mit{max_iters}.png')\n",
    "    plot_combined_H(tmp_H, img_size, figsize=h_plot_size, filename=f'../../experimental/images/jasper_small/combh_vanilla_r{r}_mit{max_iters}.png')\n",
    "    merge_images([f'../../experimental/images/jasper_small/w_vanilla_r{r}_mit{max_iters}.png', f'../../experimental/images/jasper_small/seph_vanilla_r{r}_mit{max_iters}.png', f'../../experimental/images/jasper_small/combh_vanilla_r{r}_mit{max_iters}.png'], f'../../experimental/images/jasper_small/ini_{ini_ver}/r{r}_sum_thes_{str(threshold).replace(\".\", \"_\")}.png', delete_images=True)"
   ],
   "metadata": {
    "collapsed": false,
    "pycharm": {
     "name": "#%%\n"
    }
   }
  },
  {
   "cell_type": "code",
   "execution_count": 10,
   "outputs": [],
   "source": [
    "# plot_W_mats(new_W, figsize=w_plot_size, fontsize=15, filename=f'../../experimental/images/jasper_small/w_vanilla_r{r}_mit{max_iters}.png')\n",
    "# plot_separate_H(thres_H, img_size, figsize=h_plot_size, fontsize=15, filename=f'../../experimental/images/jasper_small/seph_vanilla_r{r}_mit{max_iters}.png')\n",
    "# plot_combined_H(thres_H, img_size, figsize=h_plot_size, filename=f'../../experimental/images/jasper_small/combh_vanilla_r{r}_mit{max_iters}.png')\n",
    "# merge_images([f'../../experimental/images/jasper_small/w_vanilla_r{r}_mit{max_iters}.png', f'../../experimental/images/jasper_small/seph_vanilla_r{r}_mit{max_iters}.png', f'../../experimental/images/jasper_small/combh_vanilla_r{r}_mit{max_iters}.png'], f'../../experimental/images/jasper_small/ini_{ini_ver}/r{r}_sum_thes_max.png', delete_images=True)"
   ],
   "metadata": {
    "collapsed": false,
    "pycharm": {
     "name": "#%%\n"
    }
   }
  }
 ],
 "metadata": {
  "kernelspec": {
   "display_name": "Python 3",
   "language": "python",
   "name": "python3"
  },
  "language_info": {
   "codemirror_mode": {
    "name": "ipython",
    "version": 2
   },
   "file_extension": ".py",
   "mimetype": "text/x-python",
   "name": "python",
   "nbconvert_exporter": "python",
   "pygments_lexer": "ipython2",
   "version": "2.7.6"
  }
 },
 "nbformat": 4,
 "nbformat_minor": 0
}