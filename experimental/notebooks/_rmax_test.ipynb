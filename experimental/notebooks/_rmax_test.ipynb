{
 "cells": [
  {
   "cell_type": "code",
   "execution_count": null,
   "metadata": {
    "collapsed": true,
    "pycharm": {
     "name": "#%%\n"
    }
   },
   "outputs": [],
   "source": [
    "import os\n",
    "import numpy as np\n",
    "from nmf_methods.nmf_son.new import new as nmf_son_new\n",
    "from nmf_methods.nmf_son.utils import save_results, load_results, plot_scores, plot_W_mats, plot_separate_H, plot_combined_H, merge_images, plot_and_merge\n",
    "from sklearn.decomposition import NMF\n",
    "\n",
    "np.random.seed(42)\n",
    "np.set_printoptions(precision=3)"
   ]
  },
  {
   "cell_type": "code",
   "execution_count": null,
   "outputs": [],
   "source": [
    "RUN = False\n",
    "\n",
    "EARLY_STOP = True\n",
    "VERBOSE = False\n",
    "SCALE_REG = True"
   ],
   "metadata": {
    "collapsed": false,
    "pycharm": {
     "name": "#%%\n"
    }
   }
  },
  {
   "cell_type": "code",
   "execution_count": null,
   "outputs": [],
   "source": [
    "max_iters = 10000"
   ],
   "metadata": {
    "collapsed": false,
    "pycharm": {
     "name": "#%%\n"
    }
   }
  },
  {
   "cell_type": "code",
   "execution_count": null,
   "outputs": [],
   "source": [
    "M = np.load('../../experimental/datasets/jasper_small_2.npz')['X']\n",
    "m, n = M.shape"
   ],
   "metadata": {
    "collapsed": false,
    "pycharm": {
     "name": "#%%\n"
    }
   }
  },
  {
   "cell_type": "code",
   "execution_count": null,
   "outputs": [],
   "source": [
    "r = n\n",
    "# lambda_vals = [0.001, 0.01, 0.1, 1, 10, 100, 1000, 10000]\n",
    "lambda_vals = [500, 750, 1500, 2000, 5000]\n",
    "\n",
    "ini_filepath = f'../../experimental/saved_models/jasper_small_2/r{r}_ini.npz'\n",
    "save_filepath = '../../experimental/saved_models/jasper_small_2/r{}_l{}_mit{}.npz'"
   ],
   "metadata": {
    "collapsed": false,
    "pycharm": {
     "name": "#%%\n"
    }
   }
  },
  {
   "cell_type": "code",
   "execution_count": null,
   "outputs": [],
   "source": [
    "if os.path.exists(ini_filepath):\n",
    "    data = np.load(ini_filepath)\n",
    "    ini_W = data['ini_W']\n",
    "    ini_H = data['ini_H']\n",
    "else:\n",
    "    ini_W = np.random.rand(m, r)\n",
    "    ini_H = np.random.rand(r, n)\n",
    "    with open(ini_filepath, 'wb') as fout:\n",
    "        np.savez_compressed(fout, ini_W=ini_W, ini_H=ini_H)"
   ],
   "metadata": {
    "collapsed": false,
    "pycharm": {
     "name": "#%%\n"
    }
   }
  },
  {
   "cell_type": "code",
   "execution_count": null,
   "outputs": [],
   "source": [
    "for _lam in lambda_vals:\n",
    "    if RUN:\n",
    "        W, H, fscores, gscores, lvals = nmf_son_new(M, ini_W.copy(), ini_H.copy(), lam=_lam, itermax=max_iters, early_stop=EARLY_STOP, verbose=VERBOSE, scale_reg=SCALE_REG)\n",
    "        save_results(save_filepath.format(r, _lam, max_iters), W, H, fscores, gscores, lvals)\n",
    "    else:\n",
    "        W, H, fscores, gscores, lvals = load_results(save_filepath.format(r, _lam, max_iters))\n",
    "        plot_scores(fscores, gscores, lvals, plot_title=_lam)\n",
    "\n",
    "        img_filenames = [f'../../experimental/images/jasper_small_2/w_r{r}_l{_lam}_mit{max_iters}.png', f'../../experimental/images/jasper_small_2/seph_r{r}_l{_lam}_mit{max_iters}.png', f'../../experimental/images/jasper_small_2/combh_r{r}_l{_lam}_mit{max_iters}.png', f'../../experimental/images/jasper_small_2/r{r}_l{_lam}_mit{max_iters}_thres.png']\n",
    "        plot_and_merge(W, H, imgsize=(100, 100), figsize=(32, 8), fontsize=10, filenames=img_filenames, num_rows=10)\n",
    "    print(_lam)"
   ],
   "metadata": {
    "collapsed": false,
    "pycharm": {
     "name": "#%%\n"
    }
   }
  }
 ],
 "metadata": {
  "kernelspec": {
   "display_name": "Python 3",
   "language": "python",
   "name": "python3"
  },
  "language_info": {
   "codemirror_mode": {
    "name": "ipython",
    "version": 2
   },
   "file_extension": ".py",
   "mimetype": "text/x-python",
   "name": "python",
   "nbconvert_exporter": "python",
   "pygments_lexer": "ipython2",
   "version": "2.7.6"
  }
 },
 "nbformat": 4,
 "nbformat_minor": 0
}