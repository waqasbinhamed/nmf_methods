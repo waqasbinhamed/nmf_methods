{
 "cells": [
  {
   "cell_type": "code",
   "execution_count": null,
   "metadata": {
    "collapsed": true,
    "pycharm": {
     "name": "#%%\n"
    }
   },
   "outputs": [],
   "source": [
    "import os\n",
    "import numpy as np\n",
    "from nmf_methods.nmf_son.new import new as nmf_son_new\n",
    "from nmf_methods.nmf_son.utils import save_results, load_results, plot_scores, plot_W_mats, plot_separate_H, plot_combined_H, merge_images, plot_and_merge\n",
    "from sklearn.decomposition import NMF\n",
    "\n",
    "np.random.seed(42)\n",
    "np.set_printoptions(precision=3)"
   ]
  },
  {
   "cell_type": "code",
   "execution_count": null,
   "outputs": [],
   "source": [
    "RUN = True\n",
    "\n",
    "EARLY_STOP = True\n",
    "VERBOSE = False\n",
    "SCALE_REG = True"
   ],
   "metadata": {
    "collapsed": false,
    "pycharm": {
     "name": "#%%\n"
    }
   }
  },
  {
   "cell_type": "code",
   "execution_count": null,
   "outputs": [],
   "source": [
    "max_iters = 10000"
   ],
   "metadata": {
    "collapsed": false,
    "pycharm": {
     "name": "#%%\n"
    }
   }
  },
  {
   "cell_type": "code",
   "execution_count": null,
   "outputs": [],
   "source": [
    "# jasper_full = np.load('../../experimental/datasets/jasper_full.npz')['X']\n",
    "# jasper_3d = jasper_full.reshape(-1, 100, 100, order='F')\n",
    "# # jasper_3d[:, 10: 20, 30: 40] # jasper small 2\n",
    "# # jasper_3d[:, 10: 20, 19: 29] # jasper small 3\n",
    "# jasper_small_3d = jasper_3d[:, 10: 20, 19: 29] # jasper small 3\n",
    "# jasper_small = jasper_small_3d.reshape(-1, 10, 10, order='F')\n",
    "# with open('../../experimental/datasets/jasper_small_3.npz', 'wb') as fp:\n",
    "#     np.savez_compressed(fp, X=jasper_small)"
   ],
   "metadata": {
    "collapsed": false,
    "pycharm": {
     "name": "#%%\n"
    }
   }
  },
  {
   "cell_type": "code",
   "execution_count": null,
   "outputs": [],
   "source": [
    "# import matplotlib.pyplot as plt\n",
    "# import matplotlib.patches as patches\n",
    "#\n",
    "# # Plot the matrix with imshow\n",
    "# img = plt.imshow(jasper_3d[80, :, :], cmap='gray')\n",
    "#\n",
    "# # Add a rectangular box around the region of interest\n",
    "# # rect = patches.Rectangle((60, 0), 40, 50, linewidth=2, edgecolor='r', facecolor='none') # jasper_small\n",
    "# # rect = patches.Rectangle((30, 10), 10, 10, linewidth=2, edgecolor='r', facecolor='none') # jasper_small_2\n",
    "# rect = patches.Rectangle((19, 10), 10, 10, linewidth=2, edgecolor='r', facecolor='none') # jasper_small_3\n",
    "# plt.gca().add_patch(rect)\n",
    "# plt.tight_layout()\n",
    "#\n",
    "# # Show the plot\n",
    "# plt.savefig('../../experimental/images/jasper_small_3/outlined_region.png')"
   ],
   "metadata": {
    "collapsed": false,
    "pycharm": {
     "name": "#%%\n"
    }
   }
  },
  {
   "cell_type": "code",
   "execution_count": null,
   "outputs": [],
   "source": [
    "M = np.load('../../experimental/datasets/jasper_small_3.npz')['X']\n",
    "m, n = M.shape"
   ],
   "metadata": {
    "collapsed": false,
    "pycharm": {
     "name": "#%%\n"
    }
   }
  },
  {
   "cell_type": "markdown",
   "source": [
    "### vanilla NMF (r = 2)"
   ],
   "metadata": {
    "collapsed": false,
    "pycharm": {
     "name": "#%% md\n"
    }
   }
  },
  {
   "cell_type": "code",
   "execution_count": null,
   "outputs": [],
   "source": [
    "r_true = 2\n",
    "imgsize = (10, 10)\n",
    "figsize = (16, 8)\n",
    "fontsize = 10\n",
    "num_rows = 1\n",
    "\n",
    "ini_filepath = f'../../experimental/saved_models/jasper_small_3/r{r_true}_ini.npz'\n",
    "save_filepath = f'../../experimental/saved_models/jasper_small_3/vanilla_r{r_true}_mit{max_iters}.npz'"
   ],
   "metadata": {
    "collapsed": false,
    "pycharm": {
     "name": "#%%\n"
    }
   }
  },
  {
   "cell_type": "code",
   "execution_count": null,
   "outputs": [],
   "source": [
    "if os.path.exists(ini_filepath):\n",
    "    data = np.load(ini_filepath)\n",
    "    ini_W = data['ini_W']\n",
    "    ini_H = data['ini_H']\n",
    "else:\n",
    "    ini_W = np.random.rand(m, r_true)\n",
    "    ini_H = np.random.rand(r_true, n)\n",
    "    with open(ini_filepath, 'wb') as fout:\n",
    "        np.savez_compressed(fout, ini_W=ini_W, ini_H=ini_H)"
   ],
   "metadata": {
    "collapsed": false,
    "pycharm": {
     "name": "#%%\n"
    }
   }
  },
  {
   "cell_type": "code",
   "execution_count": null,
   "outputs": [],
   "source": [
    "if RUN:\n",
    "    model = NMF(n_components=r_true, init='custom', random_state=42, max_iter=max_iters)\n",
    "    W = model.fit_transform(X=M, W=ini_W.copy(), H=ini_H.copy())\n",
    "    H = model.components_\n",
    "    with open(save_filepath, 'wb') as fout:\n",
    "        np.savez_compressed(fout, W=W, H=H)\n",
    "else:\n",
    "    data2 = np.load(save_filepath)\n",
    "    W = data2['W']\n",
    "    H = data2['H']\n",
    "    img_filenames = [f'../../experimental/images/jasper_small_3/w_vanilla_r{r_true}_mit{max_iters}.png', f'../../experimental/images/jasper_small_3/seph_vanilla_r{r_true}_mit{max_iters}.png', f'../../experimental/images/jasper_small_3/combh_vanilla_r{r_true}_mit{max_iters}.png', f'../../experimental/images/jasper_small_3/r{r_true}_vanilla.png']\n",
    "    plot_and_merge(W, H, imgsize=imgsize, figsize=figsize, fontsize=fontsize, filenames=img_filenames, num_rows=num_rows, delete=True)"
   ],
   "metadata": {
    "collapsed": false,
    "pycharm": {
     "name": "#%%\n"
    }
   }
  },
  {
   "cell_type": "markdown",
   "source": [
    "### vanilla NMF (r = n)"
   ],
   "metadata": {
    "collapsed": false,
    "pycharm": {
     "name": "#%% md\n"
    }
   }
  },
  {
   "cell_type": "code",
   "execution_count": null,
   "outputs": [],
   "source": [
    "r = n\n",
    "figsize = (32, 32)\n",
    "num_rows = 2\n",
    "\n",
    "ini_filepath = f'../../experimental/saved_models/jasper_small_3/r{r}_ini.npz'\n",
    "save_filepath = f'../../experimental/saved_models/jasper_small_3/vanilla_r{r}_mit{max_iters}.npz'"
   ],
   "metadata": {
    "collapsed": false,
    "pycharm": {
     "name": "#%%\n"
    }
   }
  },
  {
   "cell_type": "code",
   "execution_count": null,
   "outputs": [],
   "source": [
    "if os.path.exists(ini_filepath):\n",
    "    data = np.load(ini_filepath)\n",
    "    ini_W = data['ini_W']\n",
    "    ini_H = data['ini_H']\n",
    "else:\n",
    "    ini_W = np.random.rand(m, r)\n",
    "    ini_H = np.random.rand(r, n)\n",
    "    with open(ini_filepath, 'wb') as fout:\n",
    "        np.savez_compressed(fout, ini_W=ini_W, ini_H=ini_H)"
   ],
   "metadata": {
    "collapsed": false,
    "pycharm": {
     "name": "#%%\n"
    }
   }
  },
  {
   "cell_type": "code",
   "execution_count": null,
   "outputs": [],
   "source": [
    "if RUN:\n",
    "    model = NMF(n_components=r, init='custom', random_state=42, max_iter=max_iters)\n",
    "    W = model.fit_transform(X=M, W=ini_W.copy(), H=ini_H.copy())\n",
    "    H = model.components_\n",
    "    with open(save_filepath, 'wb') as fout:\n",
    "        np.savez_compressed(fout, W=W, H=H)\n",
    "else:\n",
    "    data2 = np.load(save_filepath)\n",
    "    W = data2['W']\n",
    "    H = data2['H']\n",
    "    img_filenames = [f'../../experimental/images/jasper_small_3/w_vanilla_r{r}_mit{max_iters}.png', f'../../experimental/images/jasper_small_3/seph_vanilla_r{r}_mit{max_iters}.png', f'../../experimental/images/jasper_small_3/combh_vanilla_r{r}_mit{max_iters}.png', f'../../experimental/images/jasper_small_3/r{r}_vanilla.png']\n",
    "    plot_and_merge(W, H, imgsize=imgsize, figsize=figsize, fontsize=fontsize, filenames=img_filenames, num_rows=num_rows, delete=True)"
   ],
   "metadata": {
    "collapsed": false,
    "pycharm": {
     "name": "#%%\n"
    }
   }
  },
  {
   "cell_type": "markdown",
   "source": [
    "### nmf-son with random initialization"
   ],
   "metadata": {
    "collapsed": false,
    "pycharm": {
     "name": "#%% md\n"
    }
   }
  },
  {
   "cell_type": "code",
   "execution_count": null,
   "outputs": [],
   "source": [
    "lambda_vals = [0.0001, 0.01, 0.1, 1, 10, 100, 1000]\n",
    "save_filepath = '../../experimental/saved_models/jasper_small_3/r{}_l{}_mit{}.npz'\n",
    "\n",
    "for _lam in lambda_vals:\n",
    "    if RUN:\n",
    "        W, H, fscores, gscores, lvals = nmf_son_new(M, ini_W.copy(), ini_H.copy(), lam=_lam, itermax=max_iters, early_stop=EARLY_STOP, verbose=VERBOSE, scale_reg=SCALE_REG)\n",
    "        save_results(save_filepath.format(r, _lam, max_iters), W, H, fscores, gscores, lvals)\n",
    "    else:\n",
    "        W, H, fscores, gscores, lvals = load_results(save_filepath.format(r, _lam, max_iters))\n",
    "        plot_scores(fscores, gscores, lvals, plot_title=_lam)\n",
    "\n",
    "        img_filenames = [f'../../experimental/images/jasper_small_3/w_r{r}_l{_lam}_mit{max_iters}.png', f'../../experimental/images/jasper_small_3/seph_r{r}_l{_lam}_mit{max_iters}.png', f'../../experimental/images/jasper_small_3/combh_r{r}_l{_lam}_mit{max_iters}.png', f'../../experimental/images/jasper_small_3/r{r}_l{_lam}_mit{max_iters}.png']\n",
    "        plot_and_merge(W, H, imgsize=imgsize, figsize=figsize, fontsize=fontsize, filenames=img_filenames, num_rows=num_rows, delete=True)\n",
    "    print(_lam)"
   ],
   "metadata": {
    "collapsed": false,
    "pycharm": {
     "name": "#%%\n"
    }
   }
  }
 ],
 "metadata": {
  "kernelspec": {
   "display_name": "Python 3",
   "language": "python",
   "name": "python3"
  },
  "language_info": {
   "codemirror_mode": {
    "name": "ipython",
    "version": 2
   },
   "file_extension": ".py",
   "mimetype": "text/x-python",
   "name": "python",
   "nbconvert_exporter": "python",
   "pygments_lexer": "ipython2",
   "version": "2.7.6"
  }
 },
 "nbformat": 4,
 "nbformat_minor": 0
}