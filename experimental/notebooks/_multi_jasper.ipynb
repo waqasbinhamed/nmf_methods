{
 "cells": [
  {
   "cell_type": "code",
   "execution_count": null,
   "metadata": {
    "collapsed": true,
    "pycharm": {
     "name": "#%%\n"
    }
   },
   "outputs": [],
   "source": [
    "import os\n",
    "import numpy as np\n",
    "from nmf_methods.nmf_son.new import new as nmf_son_new\n",
    "from nmf_methods.nmf_son.utils import save_results, load_results, plot_scores, plot_W_mats, plot_separate_H, plot_combined_H, merge_images, plot_and_merge\n",
    "from sklearn.decomposition import NMF\n",
    "\n",
    "np.random.seed(42)\n",
    "np.set_printoptions(precision=3)"
   ]
  },
  {
   "cell_type": "code",
   "execution_count": null,
   "outputs": [],
   "source": [
    "RUN = True\n",
    "\n",
    "EARLY_STOP = True\n",
    "VERBOSE = False\n",
    "SCALE_REG = True"
   ],
   "metadata": {
    "collapsed": false,
    "pycharm": {
     "name": "#%%\n"
    }
   }
  },
  {
   "cell_type": "code",
   "execution_count": null,
   "outputs": [],
   "source": [
    "max_iters = 10000"
   ],
   "metadata": {
    "collapsed": false,
    "pycharm": {
     "name": "#%%\n"
    }
   }
  },
  {
   "cell_type": "code",
   "execution_count": null,
   "outputs": [],
   "source": [
    "jasper_full = np.load('../../experimental/datasets/jasper_full.npz')['X']\n",
    "jasper_3d = jasper_full.reshape(-1, 100, 100, order='F')"
   ],
   "metadata": {
    "collapsed": false,
    "pycharm": {
     "name": "#%%\n"
    }
   }
  },
  {
   "cell_type": "code",
   "execution_count": null,
   "outputs": [],
   "source": [
    "ini_filepath = '../../experimental/saved_models/multi_size/r{}_ini.npz'\n",
    "save_filepath = '../../experimental/saved_models/multi_size/r{}_l{}_mit{}.npz'\n",
    "lambda_vals = [0.0001, 0.01, 0.1, 1, 10, 100, 1000]"
   ],
   "metadata": {
    "collapsed": false,
    "pycharm": {
     "name": "#%%\n"
    }
   }
  },
  {
   "cell_type": "code",
   "execution_count": null,
   "outputs": [],
   "source": [
    "m, _ = jasper_full.shape\n",
    "n_sizes = [3, 5, 7, 10, 12, 15, 20]\n",
    "for n in n_sizes:\n",
    "    M_3d = jasper_3d[:, :n, :n]\n",
    "    M = M_3d.reshape(m, -1, order='F')\n",
    "\n",
    "    r = n\n",
    "    if os.path.exists(ini_filepath):\n",
    "        data = np.load(ini_filepath)\n",
    "        ini_W = data['ini_W']\n",
    "        ini_H = data['ini_H']\n",
    "    else:\n",
    "        ini_W = np.random.rand(m, r)\n",
    "        ini_H = np.random.rand(r, n)\n",
    "        with open(ini_filepath, 'wb') as fout:\n",
    "            np.savez_compressed(fout, ini_W=ini_W, ini_H=ini_H)\n",
    "\n",
    "    for _lam in lambda_vals:\n",
    "        W, H, fscores, gscores, lvals = nmf_son_new(M, ini_W.copy(), ini_H.copy(), lam=_lam, itermax=max_iters, early_stop=EARLY_STOP, verbose=VERBOSE, scale_reg=SCALE_REG)\n",
    "        save_results(save_filepath.format(r, _lam, max_iters), W, H, fscores, gscores, lvals)"
   ],
   "metadata": {
    "collapsed": false,
    "pycharm": {
     "name": "#%%\n"
    }
   }
  }
 ],
 "metadata": {
  "kernelspec": {
   "display_name": "Python 3",
   "language": "python",
   "name": "python3"
  },
  "language_info": {
   "codemirror_mode": {
    "name": "ipython",
    "version": 2
   },
   "file_extension": ".py",
   "mimetype": "text/x-python",
   "name": "python",
   "nbconvert_exporter": "python",
   "pygments_lexer": "ipython2",
   "version": "2.7.6"
  }
 },
 "nbformat": 4,
 "nbformat_minor": 0
}